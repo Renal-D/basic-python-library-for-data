{
 "cells": [
  {
   "cell_type": "markdown",
   "id": "9eec17b2-5798-4736-9588-86cf33e2233c",
   "metadata": {},
   "source": [
    "### NumPy\n",
    "Library Aljabar Linear for Python<br>\n",
    "sangat cepat krna dibangun dengan bahasa C"
   ]
  },
  {
   "cell_type": "code",
   "execution_count": 1,
   "id": "e3bfaa68-402c-4953-b927-32824dc21c78",
   "metadata": {},
   "outputs": [],
   "source": [
    "import numpy as np"
   ]
  },
  {
   "cell_type": "code",
   "execution_count": 2,
   "id": "f616aa4b-298e-4149-8da3-10de78334e41",
   "metadata": {},
   "outputs": [],
   "source": [
    "angka = [1,2,3,4]"
   ]
  },
  {
   "cell_type": "code",
   "execution_count": 4,
   "id": "5cd02b41-23e4-48d5-8d51-2b5148788a63",
   "metadata": {},
   "outputs": [],
   "source": [
    "angkanp = np.array([1,2,3,4,5])"
   ]
  },
  {
   "cell_type": "code",
   "execution_count": 8,
   "id": "0111457c-c0b1-4979-836a-fc7f34dccdcc",
   "metadata": {},
   "outputs": [
    {
     "data": {
      "text/plain": [
       "[1, 2, 3, 4, 1, 2, 3, 4, 1, 2, 3, 4]"
      ]
     },
     "execution_count": 8,
     "metadata": {},
     "output_type": "execute_result"
    }
   ],
   "source": [
    "angka*3"
   ]
  },
  {
   "cell_type": "code",
   "execution_count": 9,
   "id": "776c8e98-e7f4-4227-8c96-34261177f8f0",
   "metadata": {},
   "outputs": [
    {
     "data": {
      "text/plain": [
       "array([ 3,  6,  9, 12, 15])"
      ]
     },
     "execution_count": 9,
     "metadata": {},
     "output_type": "execute_result"
    }
   ],
   "source": [
    "angkanp*3"
   ]
  },
  {
   "cell_type": "code",
   "execution_count": 16,
   "id": "1a32d179-9906-48bb-ac0b-68f4d2253b7d",
   "metadata": {},
   "outputs": [],
   "source": [
    "list_angka = ([1,2,3],[4,5,6],[7,8,9])"
   ]
  },
  {
   "cell_type": "code",
   "execution_count": 17,
   "id": "e374646c-a18f-47c8-a5d3-efe6710da965",
   "metadata": {},
   "outputs": [
    {
     "data": {
      "text/plain": [
       "array([[1, 2, 3],\n",
       "       [4, 5, 6],\n",
       "       [7, 8, 9]])"
      ]
     },
     "execution_count": 17,
     "metadata": {},
     "output_type": "execute_result"
    }
   ],
   "source": [
    "list_angkanp = np.array(list_angka)\n",
    "list_angkanp"
   ]
  },
  {
   "cell_type": "code",
   "execution_count": 18,
   "id": "78bd4b2d-54bf-4585-ab56-3a347b8ef1c4",
   "metadata": {},
   "outputs": [
    {
     "data": {
      "text/plain": [
       "array([0, 1, 2, 3, 4, 5, 6, 7, 8, 9])"
      ]
     },
     "execution_count": 18,
     "metadata": {},
     "output_type": "execute_result"
    }
   ],
   "source": [
    "np.arange(0,10)"
   ]
  },
  {
   "cell_type": "code",
   "execution_count": 20,
   "id": "bf8019be-d384-408e-ab1a-d84b5ae89b7f",
   "metadata": {},
   "outputs": [
    {
     "data": {
      "text/plain": [
       "array([ 1,  5,  9, 13, 17, 21, 25, 29])"
      ]
     },
     "execution_count": 20,
     "metadata": {},
     "output_type": "execute_result"
    }
   ],
   "source": [
    "np.arange(1,30,4)"
   ]
  },
  {
   "cell_type": "code",
   "execution_count": 21,
   "id": "236764d2-4b03-4990-84e1-9e3e35fd4484",
   "metadata": {},
   "outputs": [
    {
     "data": {
      "text/plain": [
       "array([0., 0., 0., 0., 0., 0., 0., 0., 0., 0.])"
      ]
     },
     "execution_count": 21,
     "metadata": {},
     "output_type": "execute_result"
    }
   ],
   "source": [
    "np.zeros(10)"
   ]
  },
  {
   "cell_type": "code",
   "execution_count": 22,
   "id": "2362065f-37c7-4ba2-bf50-bcb568bf094f",
   "metadata": {},
   "outputs": [
    {
     "data": {
      "text/plain": [
       "array([[0., 0., 0., 0.],\n",
       "       [0., 0., 0., 0.]])"
      ]
     },
     "execution_count": 22,
     "metadata": {},
     "output_type": "execute_result"
    }
   ],
   "source": [
    "np.zeros((2,4))"
   ]
  },
  {
   "cell_type": "code",
   "execution_count": 23,
   "id": "71e57f13-d0a1-416c-95b4-6a49b688432e",
   "metadata": {},
   "outputs": [
    {
     "data": {
      "text/plain": [
       "array([1., 1., 1., 1., 1.])"
      ]
     },
     "execution_count": 23,
     "metadata": {},
     "output_type": "execute_result"
    }
   ],
   "source": [
    "np.ones(5)"
   ]
  },
  {
   "cell_type": "code",
   "execution_count": 24,
   "id": "c39832b6-5a67-4b4d-8f14-96a4119843b4",
   "metadata": {},
   "outputs": [
    {
     "data": {
      "text/plain": [
       "array([[1., 1., 1.],\n",
       "       [1., 1., 1.],\n",
       "       [1., 1., 1.]])"
      ]
     },
     "execution_count": 24,
     "metadata": {},
     "output_type": "execute_result"
    }
   ],
   "source": [
    "np.ones((3,3))"
   ]
  },
  {
   "cell_type": "code",
   "execution_count": 31,
   "id": "903bf3fa-3c95-4241-8bba-0865fdca753b",
   "metadata": {},
   "outputs": [
    {
     "data": {
      "text/plain": [
       "array([0.        , 0.88888889, 1.77777778, 2.66666667, 3.55555556,\n",
       "       4.44444444, 5.33333333, 6.22222222, 7.11111111, 8.        ])"
      ]
     },
     "execution_count": 31,
     "metadata": {},
     "output_type": "execute_result"
    }
   ],
   "source": [
    "np.linspace(0,8,10) # 0 awal 8 akhir, 10 dipecah menjadi 10 bagian"
   ]
  },
  {
   "cell_type": "markdown",
   "id": "1085193e-bf30-4ba1-a2db-e67e4ea9c8d5",
   "metadata": {},
   "source": [
    "#### Identity Matrix\n",
    "Elemen yang i=j (indeks baris dan indeks kolom sama) adalah 1 dan sisanya 0, seperti:"
   ]
  },
  {
   "cell_type": "code",
   "execution_count": 41,
   "id": "d985e1a1-b417-479c-9f16-7ea113665fce",
   "metadata": {},
   "outputs": [
    {
     "data": {
      "text/plain": [
       "array([[1., 0., 0.],\n",
       "       [0., 1., 0.],\n",
       "       [0., 0., 1.]])"
      ]
     },
     "execution_count": 41,
     "metadata": {},
     "output_type": "execute_result"
    }
   ],
   "source": [
    "np.eye(3)"
   ]
  },
  {
   "cell_type": "code",
   "execution_count": 43,
   "id": "b1324372-ff69-4efb-9aed-c7692c541308",
   "metadata": {},
   "outputs": [
    {
     "data": {
      "text/plain": [
       "array([[1., 0., 0., 0., 0.],\n",
       "       [0., 1., 0., 0., 0.],\n",
       "       [0., 0., 1., 0., 0.]])"
      ]
     },
     "execution_count": 43,
     "metadata": {},
     "output_type": "execute_result"
    }
   ],
   "source": [
    "np.eye(3,5)"
   ]
  },
  {
   "cell_type": "markdown",
   "id": "23038f6a-df30-4bb4-a1a5-a8fe7cdf4014",
   "metadata": {},
   "source": [
    "#### np.diag\n",
    "dapat mendefinisikan array 2D persegi dengan nilai tertentu di sepanjang diagonalnya atau jika diberikan array 2D akan mengembalikan array 1D yang hanya berupa elemen diagonal. Dua fungsi pembuatan array dapat berguna saat mengerjakan aljabar linier, seperti:"
   ]
  },
  {
   "cell_type": "code",
   "execution_count": 36,
   "id": "0cab9fe7-032c-4635-8887-923bc30bfcd9",
   "metadata": {},
   "outputs": [
    {
     "data": {
      "text/plain": [
       "array([[2, 0, 0],\n",
       "       [0, 3, 0],\n",
       "       [0, 0, 4]])"
      ]
     },
     "execution_count": 36,
     "metadata": {},
     "output_type": "execute_result"
    }
   ],
   "source": [
    "np.diag([2,3,4])"
   ]
  },
  {
   "cell_type": "code",
   "execution_count": 40,
   "id": "b22a8698-ddaa-4dc3-b290-b647945cc501",
   "metadata": {},
   "outputs": [
    {
     "data": {
      "text/plain": [
       "array([[0, 1, 0, 0],\n",
       "       [0, 0, 2, 0],\n",
       "       [0, 0, 0, 3],\n",
       "       [0, 0, 0, 0]])"
      ]
     },
     "execution_count": 40,
     "metadata": {},
     "output_type": "execute_result"
    }
   ],
   "source": [
    "np.diag([1,2,3],1)"
   ]
  },
  {
   "cell_type": "code",
   "execution_count": 45,
   "id": "0171ac28-397d-41a7-88c7-0a2ff768f4ed",
   "metadata": {},
   "outputs": [
    {
     "data": {
      "text/plain": [
       "array([[1, 2],\n",
       "       [3, 4]])"
      ]
     },
     "execution_count": 45,
     "metadata": {},
     "output_type": "execute_result"
    }
   ],
   "source": [
    "a = np.array([[1,2],[3,4]])\n",
    "a"
   ]
  },
  {
   "cell_type": "code",
   "execution_count": 46,
   "id": "8babd05d-36ef-4808-a2d0-553e2cd6a1b6",
   "metadata": {},
   "outputs": [
    {
     "data": {
      "text/plain": [
       "array([1, 4])"
      ]
     },
     "execution_count": 46,
     "metadata": {},
     "output_type": "execute_result"
    }
   ],
   "source": [
    "np.diag(a)"
   ]
  },
  {
   "cell_type": "code",
   "execution_count": null,
   "id": "e733ccbe-b252-4bd9-9092-3a1834d97768",
   "metadata": {},
   "outputs": [],
   "source": []
  }
 ],
 "metadata": {
  "kernelspec": {
   "display_name": "Python 3 (ipykernel)",
   "language": "python",
   "name": "python3"
  },
  "language_info": {
   "codemirror_mode": {
    "name": "ipython",
    "version": 3
   },
   "file_extension": ".py",
   "mimetype": "text/x-python",
   "name": "python",
   "nbconvert_exporter": "python",
   "pygments_lexer": "ipython3",
   "version": "3.12.0"
  }
 },
 "nbformat": 4,
 "nbformat_minor": 5
}
