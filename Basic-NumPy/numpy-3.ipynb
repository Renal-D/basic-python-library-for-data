{
 "cells": [
  {
   "cell_type": "markdown",
   "id": "f8abf043-b392-4ccf-b699-c981227b84ce",
   "metadata": {},
   "source": [
    "### Operasi Matematika di Numpy"
   ]
  },
  {
   "cell_type": "code",
   "execution_count": 42,
   "id": "bc4a2fed-ff21-4227-88f7-a1b1c4754bce",
   "metadata": {},
   "outputs": [],
   "source": [
    "import numpy as np"
   ]
  },
  {
   "cell_type": "code",
   "execution_count": 43,
   "id": "73892c62-2a2b-41d5-83d4-13086550a456",
   "metadata": {},
   "outputs": [],
   "source": [
    "angka = np.arange(0,11)"
   ]
  },
  {
   "cell_type": "code",
   "execution_count": 44,
   "id": "a71d27e2-c14c-496b-9cc1-cf24cb3d0e07",
   "metadata": {},
   "outputs": [
    {
     "data": {
      "text/plain": [
       "array([ 0,  1,  2,  3,  4,  5,  6,  7,  8,  9, 10])"
      ]
     },
     "execution_count": 44,
     "metadata": {},
     "output_type": "execute_result"
    }
   ],
   "source": [
    "angka"
   ]
  },
  {
   "cell_type": "code",
   "execution_count": 45,
   "id": "1f5ef3d7-884e-4c4d-ae5b-70168a4f4ac3",
   "metadata": {},
   "outputs": [
    {
     "data": {
      "text/plain": [
       "array([ 5,  6,  7,  8,  9, 10, 11, 12, 13, 14, 15])"
      ]
     },
     "execution_count": 45,
     "metadata": {},
     "output_type": "execute_result"
    }
   ],
   "source": [
    "angka+5 #dijumlahkan 0+5,1+5 dst"
   ]
  },
  {
   "cell_type": "code",
   "execution_count": 47,
   "id": "44e31e37-dd9e-405f-815a-c54d9f23c756",
   "metadata": {},
   "outputs": [
    {
     "data": {
      "text/plain": [
       "array([ 0,  2,  4,  6,  8, 10, 12, 14, 16, 18, 20])"
      ]
     },
     "execution_count": 47,
     "metadata": {},
     "output_type": "execute_result"
    }
   ],
   "source": [
    "angka+angka #dijumlahkan dengan dirinya sendiri 1+1 2+2 3+3 dst"
   ]
  },
  {
   "cell_type": "code",
   "execution_count": 48,
   "id": "ab3c83ee-142f-4798-9794-92829f9eec21",
   "metadata": {},
   "outputs": [],
   "source": [
    "list_angka = [1,2,3,4,5]"
   ]
  },
  {
   "cell_type": "code",
   "execution_count": 49,
   "id": "8a2b756a-fe2b-4cf7-8e6e-098e0e155129",
   "metadata": {},
   "outputs": [
    {
     "data": {
      "text/plain": [
       "[1, 2, 3, 4, 5, 1, 2, 3, 4, 5]"
      ]
     },
     "execution_count": 49,
     "metadata": {},
     "output_type": "execute_result"
    }
   ],
   "source": [
    "list_angka+list_angka"
   ]
  },
  {
   "cell_type": "code",
   "execution_count": 50,
   "id": "7752050b-eb02-453b-a23d-3bc71dffc0c2",
   "metadata": {},
   "outputs": [
    {
     "data": {
      "text/plain": [
       "array([ 0,  2,  4,  6,  8, 10, 12, 14, 16, 18, 20])"
      ]
     },
     "execution_count": 50,
     "metadata": {},
     "output_type": "execute_result"
    }
   ],
   "source": [
    "angka*2"
   ]
  },
  {
   "cell_type": "code",
   "execution_count": 51,
   "id": "02fcc8ca-9a56-428d-9a51-6bfe0c411f0b",
   "metadata": {},
   "outputs": [
    {
     "data": {
      "text/plain": [
       "[1, 2, 3, 4, 5, 1, 2, 3, 4, 5, 1, 2, 3, 4, 5]"
      ]
     },
     "execution_count": 51,
     "metadata": {},
     "output_type": "execute_result"
    }
   ],
   "source": [
    "list_angka*3"
   ]
  },
  {
   "cell_type": "code",
   "execution_count": 52,
   "id": "aa8fc679-12c7-47d0-a53c-37d95497c58d",
   "metadata": {},
   "outputs": [
    {
     "data": {
      "text/plain": [
       "array([ 0,  1,  2,  3,  4,  5,  6,  7,  8,  9, 10])"
      ]
     },
     "execution_count": 52,
     "metadata": {},
     "output_type": "execute_result"
    }
   ],
   "source": [
    "angka"
   ]
  },
  {
   "cell_type": "code",
   "execution_count": 53,
   "id": "53c2c12e-bc78-47a7-ad46-ec54d087bc3b",
   "metadata": {},
   "outputs": [
    {
     "data": {
      "text/plain": [
       "array([0, 0, 0, 0, 0, 0, 0, 0, 0, 0, 0])"
      ]
     },
     "execution_count": 53,
     "metadata": {},
     "output_type": "execute_result"
    }
   ],
   "source": [
    "angka-angka"
   ]
  },
  {
   "cell_type": "code",
   "execution_count": 54,
   "id": "6e006aba-c7b0-41a4-93cd-6537124a072a",
   "metadata": {},
   "outputs": [
    {
     "data": {
      "text/plain": [
       "array([-10,  -9,  -8,  -7,  -6,  -5,  -4,  -3,  -2,  -1,   0])"
      ]
     },
     "execution_count": 54,
     "metadata": {},
     "output_type": "execute_result"
    }
   ],
   "source": [
    "angka-10"
   ]
  },
  {
   "cell_type": "code",
   "execution_count": 55,
   "id": "ce4dba37-df1d-476f-9794-4c8523bec0b3",
   "metadata": {},
   "outputs": [
    {
     "ename": "ZeroDivisionError",
     "evalue": "division by zero",
     "output_type": "error",
     "traceback": [
      "\u001b[1;31m---------------------------------------------------------------------------\u001b[0m",
      "\u001b[1;31mZeroDivisionError\u001b[0m                         Traceback (most recent call last)",
      "Cell \u001b[1;32mIn[55], line 1\u001b[0m\n\u001b[1;32m----> 1\u001b[0m \u001b[38;5;241;43m1\u001b[39;49m\u001b[38;5;241;43m/\u001b[39;49m\u001b[38;5;241;43m0\u001b[39;49m \u001b[38;5;66;03m#karena dibagi 0 akan error\u001b[39;00m\n",
      "\u001b[1;31mZeroDivisionError\u001b[0m: division by zero"
     ]
    }
   ],
   "source": [
    "1/0 #karena dibagi 0 akan error"
   ]
  },
  {
   "cell_type": "code",
   "execution_count": 56,
   "id": "0fe4b82c-8dcb-4159-a107-c63b84466bd4",
   "metadata": {},
   "outputs": [
    {
     "name": "stderr",
     "output_type": "stream",
     "text": [
      "C:\\Users\\renal\\AppData\\Local\\Temp\\ipykernel_13048\\2282081036.py:1: RuntimeWarning: invalid value encountered in divide\n",
      "  angka/angka\n"
     ]
    },
    {
     "data": {
      "text/plain": [
       "array([nan,  1.,  1.,  1.,  1.,  1.,  1.,  1.,  1.,  1.,  1.])"
      ]
     },
     "execution_count": 56,
     "metadata": {},
     "output_type": "execute_result"
    }
   ],
   "source": [
    "angka/angka"
   ]
  },
  {
   "cell_type": "code",
   "execution_count": 57,
   "id": "9368444e-1305-4aa0-8588-561253328b9d",
   "metadata": {},
   "outputs": [
    {
     "name": "stderr",
     "output_type": "stream",
     "text": [
      "C:\\Users\\renal\\AppData\\Local\\Temp\\ipykernel_13048\\4117288803.py:1: RuntimeWarning: divide by zero encountered in divide\n",
      "  1/angka\n"
     ]
    },
    {
     "data": {
      "text/plain": [
       "array([       inf, 1.        , 0.5       , 0.33333333, 0.25      ,\n",
       "       0.2       , 0.16666667, 0.14285714, 0.125     , 0.11111111,\n",
       "       0.1       ])"
      ]
     },
     "execution_count": 57,
     "metadata": {},
     "output_type": "execute_result"
    }
   ],
   "source": [
    "1/angka"
   ]
  },
  {
   "cell_type": "code",
   "execution_count": 58,
   "id": "952f3d14-cac3-4593-a03d-8717faeed2b7",
   "metadata": {},
   "outputs": [
    {
     "data": {
      "text/plain": [
       "array([0.        , 1.        , 1.41421356, 1.73205081, 2.        ,\n",
       "       2.23606798, 2.44948974, 2.64575131, 2.82842712, 3.        ,\n",
       "       3.16227766])"
      ]
     },
     "execution_count": 58,
     "metadata": {},
     "output_type": "execute_result"
    }
   ],
   "source": [
    "np.sqrt(angka)"
   ]
  },
  {
   "cell_type": "code",
   "execution_count": 60,
   "id": "c7000405-e535-4595-b874-5a8ed14d3cb2",
   "metadata": {},
   "outputs": [
    {
     "data": {
      "text/plain": [
       "array([1.00000000e+00, 2.71828183e+00, 7.38905610e+00, 2.00855369e+01,\n",
       "       5.45981500e+01, 1.48413159e+02, 4.03428793e+02, 1.09663316e+03,\n",
       "       2.98095799e+03, 8.10308393e+03, 2.20264658e+04])"
      ]
     },
     "execution_count": 60,
     "metadata": {},
     "output_type": "execute_result"
    }
   ],
   "source": [
    "np.exp(angka)"
   ]
  },
  {
   "cell_type": "markdown",
   "id": "683d6338-673e-4b5a-887c-d102d18b5b81",
   "metadata": {},
   "source": [
    "## e = 2.7182"
   ]
  },
  {
   "cell_type": "code",
   "execution_count": 61,
   "id": "af39250f-4f43-496b-9a1f-550ea5eb0f55",
   "metadata": {},
   "outputs": [
    {
     "data": {
      "text/plain": [
       "10"
      ]
     },
     "execution_count": 61,
     "metadata": {},
     "output_type": "execute_result"
    }
   ],
   "source": [
    "np.max(angka)"
   ]
  },
  {
   "cell_type": "code",
   "execution_count": 62,
   "id": "78346123-f1f3-46de-bcec-9edf2aed314a",
   "metadata": {},
   "outputs": [
    {
     "data": {
      "text/plain": [
       "0"
      ]
     },
     "execution_count": 62,
     "metadata": {},
     "output_type": "execute_result"
    }
   ],
   "source": [
    "np.min(angka)"
   ]
  },
  {
   "cell_type": "code",
   "execution_count": 63,
   "id": "13753a5d-60ff-40ec-a05e-604d1a36a1f4",
   "metadata": {},
   "outputs": [
    {
     "data": {
      "text/plain": [
       "array([ 0.        ,  0.84147098,  0.90929743,  0.14112001, -0.7568025 ,\n",
       "       -0.95892427, -0.2794155 ,  0.6569866 ,  0.98935825,  0.41211849,\n",
       "       -0.54402111])"
      ]
     },
     "execution_count": 63,
     "metadata": {},
     "output_type": "execute_result"
    }
   ],
   "source": [
    "np.sin(angka)"
   ]
  },
  {
   "cell_type": "code",
   "execution_count": 65,
   "id": "bc84e15b-12ec-41d5-87ac-c2ba39558a54",
   "metadata": {},
   "outputs": [
    {
     "data": {
      "text/plain": [
       "array([ 1.        ,  0.54030231, -0.41614684, -0.9899925 , -0.65364362,\n",
       "        0.28366219,  0.96017029,  0.75390225, -0.14550003, -0.91113026,\n",
       "       -0.83907153])"
      ]
     },
     "execution_count": 65,
     "metadata": {},
     "output_type": "execute_result"
    }
   ],
   "source": [
    "np.cos(angka)"
   ]
  },
  {
   "cell_type": "code",
   "execution_count": 66,
   "id": "57dbe233-a586-4189-8eaf-2e5fffc8f8a2",
   "metadata": {},
   "outputs": [
    {
     "data": {
      "text/plain": [
       "array([ 0.        ,  1.55740772, -2.18503986, -0.14254654,  1.15782128,\n",
       "       -3.38051501, -0.29100619,  0.87144798, -6.79971146, -0.45231566,\n",
       "        0.64836083])"
      ]
     },
     "execution_count": 66,
     "metadata": {},
     "output_type": "execute_result"
    }
   ],
   "source": [
    "np.tan(angka)"
   ]
  },
  {
   "cell_type": "code",
   "execution_count": 67,
   "id": "0d252f9e-b44a-44ac-b8e7-050a676b29a6",
   "metadata": {},
   "outputs": [
    {
     "name": "stderr",
     "output_type": "stream",
     "text": [
      "C:\\Users\\renal\\AppData\\Local\\Temp\\ipykernel_13048\\2456787053.py:1: RuntimeWarning: divide by zero encountered in log\n",
      "  np.log(angka)\n"
     ]
    },
    {
     "data": {
      "text/plain": [
       "array([      -inf, 0.        , 0.69314718, 1.09861229, 1.38629436,\n",
       "       1.60943791, 1.79175947, 1.94591015, 2.07944154, 2.19722458,\n",
       "       2.30258509])"
      ]
     },
     "execution_count": 67,
     "metadata": {},
     "output_type": "execute_result"
    }
   ],
   "source": [
    "np.log(angka)"
   ]
  },
  {
   "cell_type": "code",
   "execution_count": 68,
   "id": "0642dc56-813b-42c3-b36f-dd02aa7fe730",
   "metadata": {},
   "outputs": [
    {
     "name": "stderr",
     "output_type": "stream",
     "text": [
      "C:\\Users\\renal\\AppData\\Local\\Temp\\ipykernel_13048\\4170947744.py:1: RuntimeWarning: divide by zero encountered in log10\n",
      "  np.log10(angka)\n"
     ]
    },
    {
     "data": {
      "text/plain": [
       "array([      -inf, 0.        , 0.30103   , 0.47712125, 0.60205999,\n",
       "       0.69897   , 0.77815125, 0.84509804, 0.90308999, 0.95424251,\n",
       "       1.        ])"
      ]
     },
     "execution_count": 68,
     "metadata": {},
     "output_type": "execute_result"
    }
   ],
   "source": [
    "np.log10(angka)"
   ]
  },
  {
   "cell_type": "code",
   "execution_count": 69,
   "id": "958e9339-3d42-4ada-8cbd-78af4fa3af74",
   "metadata": {},
   "outputs": [],
   "source": [
    "# belajar case study lebih baik, jika ada operasi matematika bisa lihat di numpy.org/reference"
   ]
  },
  {
   "cell_type": "code",
   "execution_count": null,
   "id": "07840cc7-996a-433b-9eaf-80aa2d1b2c87",
   "metadata": {},
   "outputs": [],
   "source": []
  }
 ],
 "metadata": {
  "kernelspec": {
   "display_name": "Python 3 (ipykernel)",
   "language": "python",
   "name": "python3"
  },
  "language_info": {
   "codemirror_mode": {
    "name": "ipython",
    "version": 3
   },
   "file_extension": ".py",
   "mimetype": "text/x-python",
   "name": "python",
   "nbconvert_exporter": "python",
   "pygments_lexer": "ipython3",
   "version": "3.12.0"
  }
 },
 "nbformat": 4,
 "nbformat_minor": 5
}
