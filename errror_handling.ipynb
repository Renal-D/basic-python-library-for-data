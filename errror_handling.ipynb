{
 "cells": [
  {
   "cell_type": "markdown",
   "id": "c3ebe28e-2932-4b80-b7e0-b96f67bb25c2",
   "metadata": {},
   "source": [
    "### Error Handling\n",
    "Try, Except, Finally, Raise"
   ]
  },
  {
   "cell_type": "code",
   "execution_count": 1,
   "id": "10de9184-2f13-4b53-a6bf-550a965fa9c2",
   "metadata": {},
   "outputs": [
    {
     "name": "stdout",
     "output_type": "stream",
     "text": [
      "kotak\n"
     ]
    }
   ],
   "source": [
    "print('kotak')"
   ]
  },
  {
   "cell_type": "code",
   "execution_count": 2,
   "id": "9ec3de8d-b363-4ecf-b277-771ec3bbdfff",
   "metadata": {},
   "outputs": [
    {
     "name": "stdout",
     "output_type": "stream",
     "text": [
      "3\n"
     ]
    }
   ],
   "source": [
    "print(1+2)"
   ]
  },
  {
   "cell_type": "code",
   "execution_count": 3,
   "id": "0897f048-6cc5-4808-ab45-100f853b1b16",
   "metadata": {},
   "outputs": [
    {
     "ename": "TypeError",
     "evalue": "unsupported operand type(s) for +: 'int' and 'str'",
     "output_type": "error",
     "traceback": [
      "\u001b[1;31m---------------------------------------------------------------------------\u001b[0m",
      "\u001b[1;31mTypeError\u001b[0m                                 Traceback (most recent call last)",
      "Cell \u001b[1;32mIn[3], line 1\u001b[0m\n\u001b[1;32m----> 1\u001b[0m \u001b[38;5;28mprint\u001b[39m(\u001b[38;5;241;43m1\u001b[39;49m\u001b[38;5;241;43m+\u001b[39;49m\u001b[38;5;124;43m'\u001b[39;49m\u001b[38;5;124;43m2\u001b[39;49m\u001b[38;5;124;43m'\u001b[39;49m)\n",
      "\u001b[1;31mTypeError\u001b[0m: unsupported operand type(s) for +: 'int' and 'str'"
     ]
    }
   ],
   "source": [
    "print(1+'2')"
   ]
  },
  {
   "cell_type": "code",
   "execution_count": 4,
   "id": "49a7c3a1-79d5-467b-8b6c-4a3558011e32",
   "metadata": {},
   "outputs": [
    {
     "ename": "ZeroDivisionError",
     "evalue": "division by zero",
     "output_type": "error",
     "traceback": [
      "\u001b[1;31m---------------------------------------------------------------------------\u001b[0m",
      "\u001b[1;31mZeroDivisionError\u001b[0m                         Traceback (most recent call last)",
      "Cell \u001b[1;32mIn[4], line 1\u001b[0m\n\u001b[1;32m----> 1\u001b[0m \u001b[38;5;28mprint\u001b[39m(\u001b[38;5;241;43m1\u001b[39;49m\u001b[38;5;241;43m/\u001b[39;49m\u001b[38;5;241;43m0\u001b[39;49m)\n",
      "\u001b[1;31mZeroDivisionError\u001b[0m: division by zero"
     ]
    }
   ],
   "source": [
    "print(1/0)"
   ]
  },
  {
   "cell_type": "code",
   "execution_count": 5,
   "id": "edc1d613-a028-45af-a287-2783e83ce7e0",
   "metadata": {},
   "outputs": [
    {
     "name": "stdin",
     "output_type": "stream",
     "text": [
      "masukkanlah angka:  1\n"
     ]
    },
    {
     "name": "stdout",
     "output_type": "stream",
     "text": [
      "1\n"
     ]
    }
   ],
   "source": [
    "print(input('masukkanlah angka: '))"
   ]
  },
  {
   "cell_type": "code",
   "execution_count": 8,
   "id": "bc898bd5-f8d6-42fe-9362-448c2fd65bae",
   "metadata": {},
   "outputs": [
    {
     "name": "stdin",
     "output_type": "stream",
     "text": [
      "masukkanlah angka:  dan\n"
     ]
    },
    {
     "ename": "ValueError",
     "evalue": "invalid literal for int() with base 10: 'dan'",
     "output_type": "error",
     "traceback": [
      "\u001b[1;31m---------------------------------------------------------------------------\u001b[0m",
      "\u001b[1;31mValueError\u001b[0m                                Traceback (most recent call last)",
      "Cell \u001b[1;32mIn[8], line 1\u001b[0m\n\u001b[1;32m----> 1\u001b[0m \u001b[38;5;28mprint\u001b[39m(\u001b[38;5;28;43mint\u001b[39;49m\u001b[43m(\u001b[49m\u001b[38;5;28;43minput\u001b[39;49m\u001b[43m(\u001b[49m\u001b[38;5;124;43m'\u001b[39;49m\u001b[38;5;124;43mmasukkanlah angka: \u001b[39;49m\u001b[38;5;124;43m'\u001b[39;49m\u001b[43m)\u001b[49m\u001b[43m)\u001b[49m)\n",
      "\u001b[1;31mValueError\u001b[0m: invalid literal for int() with base 10: 'dan'"
     ]
    }
   ],
   "source": [
    "print(int(input('masukkanlah angka: ')))"
   ]
  },
  {
   "cell_type": "code",
   "execution_count": 9,
   "id": "c7a4bbb1-262b-4e5d-baee-91b8c30de8b3",
   "metadata": {},
   "outputs": [
    {
     "name": "stdin",
     "output_type": "stream",
     "text": [
      "masukkanlah angka:  angka\n"
     ]
    },
    {
     "name": "stdout",
     "output_type": "stream",
     "text": [
      "tolong masukkan angka yang benar ya\n"
     ]
    }
   ],
   "source": [
    "try:\n",
    "    print(int(input('masukkanlah angka: ')))\n",
    "except:\n",
    "    print('tolong masukkan angka yang benar ya')"
   ]
  },
  {
   "cell_type": "code",
   "execution_count": 10,
   "id": "0b8c1a70-a854-41bc-a21f-3c6055fb9fa8",
   "metadata": {},
   "outputs": [
    {
     "name": "stdin",
     "output_type": "stream",
     "text": [
      "masukkanlah angka:  1\n"
     ]
    },
    {
     "name": "stdout",
     "output_type": "stream",
     "text": [
      "1\n"
     ]
    }
   ],
   "source": [
    "try:\n",
    "    print(int(input('masukkanlah angka: ')))\n",
    "except:\n",
    "    print('tolong masukkan angka yang benar ya')"
   ]
  },
  {
   "cell_type": "code",
   "execution_count": 15,
   "id": "ba3f9b5f-866a-470c-b893-43f0d470f235",
   "metadata": {},
   "outputs": [
    {
     "name": "stdin",
     "output_type": "stream",
     "text": [
      "masukkanlah angka:  angka\n"
     ]
    },
    {
     "name": "stdout",
     "output_type": "stream",
     "text": [
      "tolong masukkan angka yang benar ya\n"
     ]
    },
    {
     "name": "stdin",
     "output_type": "stream",
     "text": [
      "masukkanlah angka:  angka\n"
     ]
    },
    {
     "name": "stdout",
     "output_type": "stream",
     "text": [
      "tolong masukkan angka yang benar ya\n"
     ]
    },
    {
     "name": "stdin",
     "output_type": "stream",
     "text": [
      "masukkanlah angka:  1\n"
     ]
    },
    {
     "name": "stdout",
     "output_type": "stream",
     "text": [
      "1\n",
      "terimaksih sudah memasukkan angka yang benar\n"
     ]
    }
   ],
   "source": [
    "while True:\n",
    "    try:\n",
    "        print(int(input('masukkanlah angka: ')))\n",
    "    except:\n",
    "        print('tolong masukkan angka yang benar ya')\n",
    "    else:\n",
    "        print('terimaksih sudah memasukkan angka yang benar')\n",
    "        break"
   ]
  },
  {
   "cell_type": "code",
   "execution_count": null,
   "id": "ed34eed9-8c4a-4334-947e-d9206badbb07",
   "metadata": {},
   "outputs": [],
   "source": []
  }
 ],
 "metadata": {
  "kernelspec": {
   "display_name": "Python 3 (ipykernel)",
   "language": "python",
   "name": "python3"
  },
  "language_info": {
   "codemirror_mode": {
    "name": "ipython",
    "version": 3
   },
   "file_extension": ".py",
   "mimetype": "text/x-python",
   "name": "python",
   "nbconvert_exporter": "python",
   "pygments_lexer": "ipython3",
   "version": "3.12.0"
  }
 },
 "nbformat": 4,
 "nbformat_minor": 5
}
