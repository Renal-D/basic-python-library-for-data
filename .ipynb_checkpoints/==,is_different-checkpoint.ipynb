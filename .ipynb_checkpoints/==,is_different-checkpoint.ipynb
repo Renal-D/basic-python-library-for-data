{
 "cells": [
  {
   "cell_type": "markdown",
   "id": "6d3bc7f0-6d03-480f-bcfa-0bbee60e344e",
   "metadata": {},
   "source": [
    "### Apa itu =="
   ]
  },
  {
   "cell_type": "code",
   "execution_count": 8,
   "id": "72f889e7-2d96-4aa9-adae-5b15869a6a32",
   "metadata": {},
   "outputs": [
    {
     "name": "stdout",
     "output_type": "stream",
     "text": [
      "1.  True\n",
      "2.  False\n",
      "3.  False\n",
      "4.  True\n",
      "5.  True\n",
      "6.  True\n"
     ]
    }
   ],
   "source": [
    "print('1. ', True == 1)\n",
    "print('2. ', 'a' == '')\n",
    "print('3. ', [] == False)\n",
    "print('4. ', 23 == 23.0)\n",
    "print('5. ', [1,2,3] ==[1,2,3]) #value harus sama jika ingin True\n",
    "print('6. ', () == ())"
   ]
  },
  {
   "cell_type": "code",
   "execution_count": 9,
   "id": "e87c6733-38a7-4e2f-bdc9-91678e7e7e7e",
   "metadata": {},
   "outputs": [
    {
     "data": {
      "text/plain": [
       "str"
      ]
     },
     "execution_count": 9,
     "metadata": {},
     "output_type": "execute_result"
    }
   ],
   "source": [
    "type('')"
   ]
  },
  {
   "cell_type": "markdown",
   "id": "8d578552-f2c2-4044-906e-ecb541e64e26",
   "metadata": {},
   "source": [
    "### is"
   ]
  },
  {
   "cell_type": "code",
   "execution_count": 21,
   "id": "7a27eb73-7ccc-4e75-9aa6-2f7c89bd6bca",
   "metadata": {},
   "outputs": [
    {
     "name": "stdout",
     "output_type": "stream",
     "text": [
      "1.  False\n",
      "2.  True\n",
      "3.  False\n",
      "4.  True\n",
      "5.  False\n",
      "6.  True\n"
     ]
    },
    {
     "name": "stderr",
     "output_type": "stream",
     "text": [
      "<>:1: SyntaxWarning: \"is\" with 'int' literal. Did you mean \"==\"?\n",
      "<>:2: SyntaxWarning: \"is\" with 'str' literal. Did you mean \"==\"?\n",
      "<>:4: SyntaxWarning: \"is\" with 'int' literal. Did you mean \"==\"?\n",
      "<>:6: SyntaxWarning: \"is\" with 'tuple' literal. Did you mean \"==\"?\n",
      "<>:1: SyntaxWarning: \"is\" with 'int' literal. Did you mean \"==\"?\n",
      "<>:2: SyntaxWarning: \"is\" with 'str' literal. Did you mean \"==\"?\n",
      "<>:4: SyntaxWarning: \"is\" with 'int' literal. Did you mean \"==\"?\n",
      "<>:6: SyntaxWarning: \"is\" with 'tuple' literal. Did you mean \"==\"?\n",
      "C:\\Users\\renal\\AppData\\Local\\Temp\\ipykernel_16184\\2280407075.py:1: SyntaxWarning: \"is\" with 'int' literal. Did you mean \"==\"?\n",
      "  print('1. ', True is 1)\n",
      "C:\\Users\\renal\\AppData\\Local\\Temp\\ipykernel_16184\\2280407075.py:2: SyntaxWarning: \"is\" with 'str' literal. Did you mean \"==\"?\n",
      "  print('2. ', 'a' is 'a')\n",
      "C:\\Users\\renal\\AppData\\Local\\Temp\\ipykernel_16184\\2280407075.py:4: SyntaxWarning: \"is\" with 'int' literal. Did you mean \"==\"?\n",
      "  print('4. ', 23 is 23)\n",
      "C:\\Users\\renal\\AppData\\Local\\Temp\\ipykernel_16184\\2280407075.py:6: SyntaxWarning: \"is\" with 'tuple' literal. Did you mean \"==\"?\n",
      "  print('6. ', () is ()) # tuple adalah sequence immutable maka nilainya sama\n"
     ]
    }
   ],
   "source": [
    "print('1. ', True is 1)\n",
    "print('2. ', 'a' is 'a')\n",
    "print('3. ', [] is False)\n",
    "print('4. ', 23 is 23)\n",
    "print('5. ', [] is []) # kalo sequence mutable maka dianggap berbeda\n",
    "print('6. ', () is ()) # tuple adalah sequence immutable maka nilainya sama"
   ]
  },
  {
   "cell_type": "markdown",
   "id": "470d4e0a-c0ee-4f50-a357-3db537a22166",
   "metadata": {},
   "source": [
    "#### == Membandingkan nilai sedangkan, \n",
    "#### is membandingkan posisi memory"
   ]
  },
  {
   "cell_type": "code",
   "execution_count": null,
   "id": "dbad4df1-a217-43cf-a177-9f21e242fdf2",
   "metadata": {},
   "outputs": [],
   "source": []
  }
 ],
 "metadata": {
  "kernelspec": {
   "display_name": "Python 3 (ipykernel)",
   "language": "python",
   "name": "python3"
  },
  "language_info": {
   "codemirror_mode": {
    "name": "ipython",
    "version": 3
   },
   "file_extension": ".py",
   "mimetype": "text/x-python",
   "name": "python",
   "nbconvert_exporter": "python",
   "pygments_lexer": "ipython3",
   "version": "3.12.0"
  }
 },
 "nbformat": 4,
 "nbformat_minor": 5
}
