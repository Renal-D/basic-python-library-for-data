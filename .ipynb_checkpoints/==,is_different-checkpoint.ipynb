{
 "cells": [
  {
   "cell_type": "markdown",
   "id": "6d3bc7f0-6d03-480f-bcfa-0bbee60e344e",
   "metadata": {},
   "source": [
    "### Apa itu =="
   ]
  },
  {
   "cell_type": "code",
   "execution_count": 6,
   "id": "72f889e7-2d96-4aa9-adae-5b15869a6a32",
   "metadata": {},
   "outputs": [
    {
     "name": "stdout",
     "output_type": "stream",
     "text": [
      "1.  True\n",
      "2.  False\n",
      "3.  False\n",
      "4.  True\n",
      "5.  True\n",
      "6.  True\n"
     ]
    }
   ],
   "source": [
    "print('1. ', True == 1)\n",
    "print('2. ', '' == 0)\n",
    "print('3. ', [] == False)\n",
    "print('4. ', 23 == 23.0)\n",
    "print('5. ', [] ==[])\n",
    "print('6. ', () == ())"
   ]
  },
  {
   "cell_type": "code",
   "execution_count": null,
   "id": "50cbde13-c388-4a22-883f-e826ab96a90c",
   "metadata": {},
   "outputs": [],
   "source": []
  }
 ],
 "metadata": {
  "kernelspec": {
   "display_name": "Python 3 (ipykernel)",
   "language": "python",
   "name": "python3"
  },
  "language_info": {
   "codemirror_mode": {
    "name": "ipython",
    "version": 3
   },
   "file_extension": ".py",
   "mimetype": "text/x-python",
   "name": "python",
   "nbconvert_exporter": "python",
   "pygments_lexer": "ipython3",
   "version": "3.12.0"
  }
 },
 "nbformat": 4,
 "nbformat_minor": 5
}
