{
 "cells": [
  {
   "cell_type": "markdown",
   "id": "99f490b7-670b-4e5a-920e-0711f3cc2da2",
   "metadata": {},
   "source": [
    "### Indeks dan Slicing"
   ]
  },
  {
   "cell_type": "code",
   "execution_count": 1,
   "id": "99480454-5025-4e62-b925-2b628d643e74",
   "metadata": {},
   "outputs": [],
   "source": [
    "import numpy as np"
   ]
  },
  {
   "cell_type": "code",
   "execution_count": 5,
   "id": "fdbfa5da-8e67-48d2-a3ae-bb3e3f704e75",
   "metadata": {},
   "outputs": [
    {
     "data": {
      "text/plain": [
       "array([0.71598891, 0.45378168, 0.93898957, 0.34806429, 0.29546981,\n",
       "       0.68169758, 0.78137038, 0.01298683, 0.39498367, 0.20139006])"
      ]
     },
     "execution_count": 5,
     "metadata": {},
     "output_type": "execute_result"
    }
   ],
   "source": [
    "# bilangan distribusi uniform(antara 0 sampai 1)\n",
    "np.random.rand(10) # 10 bilangan random antara 0-1"
   ]
  },
  {
   "cell_type": "code",
   "execution_count": 6,
   "id": "81feb9b3-37f0-487f-b5ec-a6d38d84185b",
   "metadata": {},
   "outputs": [
    {
     "data": {
      "text/plain": [
       "array([[0.73663153, 0.87749343, 0.4035513 , 0.95081736],\n",
       "       [0.31556064, 0.6369642 , 0.41930204, 0.3860112 ],\n",
       "       [0.74409468, 0.21731021, 0.03385321, 0.05643187],\n",
       "       [0.94673407, 0.64106599, 0.41504145, 0.91517843],\n",
       "       [0.68515289, 0.11696428, 0.83652668, 0.54966037]])"
      ]
     },
     "execution_count": 6,
     "metadata": {},
     "output_type": "execute_result"
    }
   ],
   "source": [
    "np.random.rand(5,4)"
   ]
  },
  {
   "cell_type": "code",
   "execution_count": 10,
   "id": "08bd6015-1fa5-4a52-94b9-bf1dd30a22d4",
   "metadata": {},
   "outputs": [
    {
     "data": {
      "text/plain": [
       "array([-0.41461624,  0.23505007, -0.9361791 , -1.76038266,  0.08949842,\n",
       "       -1.61912971,  0.81713187,  0.82178247, -0.90093744,  0.69205829,\n",
       "        0.22072126,  0.58781775, -1.0799253 ,  0.56403075,  1.67094182,\n",
       "        2.36691909, -0.81978995,  1.5101213 , -0.38000971, -0.90114768,\n",
       "        0.43360696,  0.30927709,  0.45796395, -1.09257302, -2.32489814,\n",
       "        0.29725154,  0.36047576, -0.33660223, -0.56994687,  0.07645784])"
      ]
     },
     "execution_count": 10,
     "metadata": {},
     "output_type": "execute_result"
    }
   ],
   "source": [
    "# bilangan distribusi normal (dari -tak hingga smpai tak hingga) /// Gaussian\n",
    "np.random.randn(30)"
   ]
  },
  {
   "cell_type": "code",
   "execution_count": 12,
   "id": "031690c6-4023-427c-9a2a-b74b4e0f9480",
   "metadata": {},
   "outputs": [
    {
     "data": {
      "text/plain": [
       "array([[-0.84473922, -0.67384145, -1.20614267, -0.50846397,  0.68320907],\n",
       "       [ 0.71610112,  1.66801817,  1.26756552,  1.19936889, -0.19321805],\n",
       "       [-1.0765889 ,  1.54582421, -1.17395241,  1.60054465, -3.0456543 ],\n",
       "       [-0.65021442, -0.513673  , -0.06513632,  0.80417201,  1.65874177],\n",
       "       [-0.97323176,  0.63298225, -0.14002711,  0.12490248,  1.88653345]])"
      ]
     },
     "execution_count": 12,
     "metadata": {},
     "output_type": "execute_result"
    }
   ],
   "source": [
    "np.random.randn(5,5)"
   ]
  },
  {
   "cell_type": "code",
   "execution_count": 14,
   "id": "abfece92-5af5-4cce-be17-cdbf557cea6f",
   "metadata": {},
   "outputs": [
    {
     "data": {
      "text/plain": [
       "array([-0.26630291,  0.04536582,  1.05997352, -1.48005959, -0.35726201,\n",
       "        0.76884629, -0.39753725,  0.79913184, -0.04736108,  1.59292187])"
      ]
     },
     "execution_count": 14,
     "metadata": {},
     "output_type": "execute_result"
    }
   ],
   "source": [
    "#cara cepat menggunakan import random\n",
    "from numpy.random import randn, randint\n",
    "randn(10)"
   ]
  },
  {
   "cell_type": "code",
   "execution_count": 17,
   "id": "309889f9-8dee-4577-b8ce-73a991e6b3fa",
   "metadata": {},
   "outputs": [
    {
     "data": {
      "text/plain": [
       "array([82, 57,  7,  3, 69])"
      ]
     },
     "execution_count": 17,
     "metadata": {},
     "output_type": "execute_result"
    }
   ],
   "source": [
    "randint(0,100,5)"
   ]
  },
  {
   "cell_type": "code",
   "execution_count": 24,
   "id": "43e45df8-4ed5-4cda-bec6-8f718ae93fc8",
   "metadata": {},
   "outputs": [
    {
     "data": {
      "text/plain": [
       "array([83, 82, 12, 37, 28, 97, 78, 77])"
      ]
     },
     "execution_count": 24,
     "metadata": {},
     "output_type": "execute_result"
    }
   ],
   "source": [
    "angka = randint(2,100,8)\n",
    "angka"
   ]
  },
  {
   "cell_type": "code",
   "execution_count": 25,
   "id": "37dceb1d-50ee-41f1-8642-93c08c1ef961",
   "metadata": {},
   "outputs": [
    {
     "data": {
      "text/plain": [
       "array([[83, 82, 12, 37],\n",
       "       [28, 97, 78, 77]])"
      ]
     },
     "execution_count": 25,
     "metadata": {},
     "output_type": "execute_result"
    }
   ],
   "source": [
    "angka.reshape(2,4)"
   ]
  },
  {
   "cell_type": "code",
   "execution_count": 26,
   "id": "89555c72-d78d-44b1-ac84-ca39d4c1e476",
   "metadata": {},
   "outputs": [
    {
     "data": {
      "text/plain": [
       "array([1, 1, 2, 1, 1, 1])"
      ]
     },
     "execution_count": 26,
     "metadata": {},
     "output_type": "execute_result"
    }
   ],
   "source": [
    "randint(1,3,6)"
   ]
  },
  {
   "cell_type": "code",
   "execution_count": 32,
   "id": "33beeee5-1954-4463-a300-f212d4eff0db",
   "metadata": {},
   "outputs": [
    {
     "data": {
      "text/plain": [
       "array([[ 7,  1, 11,  2],\n",
       "       [12, 16, 17,  3],\n",
       "       [ 8, 18, 17, 18],\n",
       "       [ 8,  9, 10,  6],\n",
       "       [ 3,  4,  6, 19]])"
      ]
     },
     "execution_count": 32,
     "metadata": {},
     "output_type": "execute_result"
    }
   ],
   "source": [
    "angka2 = randint(1,20,20).reshape(5,4)\n",
    "angka2"
   ]
  },
  {
   "cell_type": "code",
   "execution_count": 33,
   "id": "9bf5e614-a65c-4bec-bce6-5ab822e2483d",
   "metadata": {},
   "outputs": [
    {
     "data": {
      "text/plain": [
       "array([[ 7,  1, 11,  2, 12, 16, 17,  3,  8, 18],\n",
       "       [17, 18,  8,  9, 10,  6,  3,  4,  6, 19]])"
      ]
     },
     "execution_count": 33,
     "metadata": {},
     "output_type": "execute_result"
    }
   ],
   "source": [
    "angka2.reshape(2,10)"
   ]
  },
  {
   "cell_type": "code",
   "execution_count": 35,
   "id": "bbd23300-98ab-4921-988b-54f74ce8f90f",
   "metadata": {},
   "outputs": [
    {
     "data": {
      "text/plain": [
       "array([[ 7,  1, 11,  2],\n",
       "       [12, 16, 17,  3],\n",
       "       [ 8, 18, 17, 18],\n",
       "       [ 8,  9, 10,  6],\n",
       "       [ 3,  4,  6, 19]])"
      ]
     },
     "execution_count": 35,
     "metadata": {},
     "output_type": "execute_result"
    }
   ],
   "source": [
    "angka2 # masih tetap karena cuman menunjukkan saja, kalo mau berubah harus didefinisikan ulang"
   ]
  },
  {
   "cell_type": "markdown",
   "id": "01ed7ef5-8da1-44ba-be87-d1cab87cf3c6",
   "metadata": {},
   "source": [
    "### Indexing"
   ]
  },
  {
   "cell_type": "code",
   "execution_count": 37,
   "id": "16c9aa73-cbcb-4e38-9e6a-9ca85795a9ba",
   "metadata": {},
   "outputs": [],
   "source": [
    "from numpy.random import rand, randn, randint"
   ]
  },
  {
   "cell_type": "code",
   "execution_count": 47,
   "id": "6def0667-76b1-47f2-ae84-18aece1f4b1d",
   "metadata": {},
   "outputs": [],
   "source": [
    "coba1d = randint(0,10,9)"
   ]
  },
  {
   "cell_type": "code",
   "execution_count": 58,
   "id": "808d8657-91b0-4633-b1f7-516c2ff3549d",
   "metadata": {},
   "outputs": [],
   "source": [
    "coba2d = randint(1,10,9).reshape(3,3)"
   ]
  },
  {
   "cell_type": "code",
   "execution_count": 59,
   "id": "409727dc-b1a2-4cb2-b5a7-5c92b2891967",
   "metadata": {},
   "outputs": [
    {
     "data": {
      "text/plain": [
       "array([7, 1, 8, 7, 0, 2, 9, 6, 5])"
      ]
     },
     "execution_count": 59,
     "metadata": {},
     "output_type": "execute_result"
    }
   ],
   "source": [
    "coba1d"
   ]
  },
  {
   "cell_type": "code",
   "execution_count": 60,
   "id": "749b97a0-6cff-4a07-a7b4-4b072b54831e",
   "metadata": {},
   "outputs": [
    {
     "data": {
      "text/plain": [
       "array([[2, 2, 8],\n",
       "       [9, 1, 9],\n",
       "       [9, 2, 3]])"
      ]
     },
     "execution_count": 60,
     "metadata": {},
     "output_type": "execute_result"
    }
   ],
   "source": [
    "coba2d"
   ]
  },
  {
   "cell_type": "code",
   "execution_count": 62,
   "id": "e9302aa9-3717-42d4-b66d-65945be807e5",
   "metadata": {},
   "outputs": [
    {
     "data": {
      "text/plain": [
       "9"
      ]
     },
     "execution_count": 62,
     "metadata": {},
     "output_type": "execute_result"
    }
   ],
   "source": [
    "coba1d.max() #mencari nilai tertinggi"
   ]
  },
  {
   "cell_type": "code",
   "execution_count": 63,
   "id": "72ec6af3-cd98-4213-ae30-5a1b3d919204",
   "metadata": {},
   "outputs": [
    {
     "data": {
      "text/plain": [
       "1"
      ]
     },
     "execution_count": 63,
     "metadata": {},
     "output_type": "execute_result"
    }
   ],
   "source": [
    "coba2d.min() # mencari nilai terendah"
   ]
  },
  {
   "cell_type": "code",
   "execution_count": 64,
   "id": "3fb22f4c-0d6e-4da2-b016-d5cb3609fdbc",
   "metadata": {},
   "outputs": [
    {
     "data": {
      "text/plain": [
       "6"
      ]
     },
     "execution_count": 64,
     "metadata": {},
     "output_type": "execute_result"
    }
   ],
   "source": [
    "coba1d.argmax() #mencari index nilai tertinggi dari kiri ke kanan"
   ]
  },
  {
   "cell_type": "code",
   "execution_count": 65,
   "id": "c2f98eec-c981-4679-b2f4-d2cfc95b0798",
   "metadata": {},
   "outputs": [
    {
     "data": {
      "text/plain": [
       "4"
      ]
     },
     "execution_count": 65,
     "metadata": {},
     "output_type": "execute_result"
    }
   ],
   "source": [
    "coba2d.argmin() #mencari index nilai terendah dari kiri ke kanan"
   ]
  },
  {
   "cell_type": "code",
   "execution_count": 66,
   "id": "1e49d8d6-9cb8-489e-8034-fda82e499f87",
   "metadata": {},
   "outputs": [],
   "source": [
    "# fungsi shape adalh untuk mengetahui bentuk dari data kita"
   ]
  },
  {
   "cell_type": "code",
   "execution_count": 67,
   "id": "4347d3af-24ef-47e0-87f5-a1458c6b2d47",
   "metadata": {},
   "outputs": [
    {
     "data": {
      "text/plain": [
       "(9,)"
      ]
     },
     "execution_count": 67,
     "metadata": {},
     "output_type": "execute_result"
    }
   ],
   "source": [
    "coba1d.shape"
   ]
  },
  {
   "cell_type": "code",
   "execution_count": 68,
   "id": "bf9b0080-2962-4585-ad50-e67b7afad351",
   "metadata": {},
   "outputs": [
    {
     "data": {
      "text/plain": [
       "(3, 3)"
      ]
     },
     "execution_count": 68,
     "metadata": {},
     "output_type": "execute_result"
    }
   ],
   "source": [
    "coba2d.shape"
   ]
  },
  {
   "cell_type": "code",
   "execution_count": 72,
   "id": "ee9245ef-ec4c-4dc8-a755-68d1b4ef75ec",
   "metadata": {},
   "outputs": [
    {
     "data": {
      "text/plain": [
       "dtype('int32')"
      ]
     },
     "execution_count": 72,
     "metadata": {},
     "output_type": "execute_result"
    }
   ],
   "source": [
    "coba1d.dtype #untuk mengetahui type data"
   ]
  },
  {
   "cell_type": "code",
   "execution_count": 73,
   "id": "eebc1314-2a8b-49a3-ac73-920490ca2a20",
   "metadata": {},
   "outputs": [
    {
     "data": {
      "text/plain": [
       "dtype('int32')"
      ]
     },
     "execution_count": 73,
     "metadata": {},
     "output_type": "execute_result"
    }
   ],
   "source": [
    "coba2d.dtype"
   ]
  },
  {
   "cell_type": "markdown",
   "id": "aefd2f77-5afd-4dc8-978d-891bce84dce2",
   "metadata": {},
   "source": [
    "### Indexing di NumPy"
   ]
  },
  {
   "cell_type": "code",
   "execution_count": 115,
   "id": "7228b090-4fd4-4a6f-a979-b699c46016f7",
   "metadata": {},
   "outputs": [],
   "source": [
    "import numpy as np"
   ]
  },
  {
   "cell_type": "code",
   "execution_count": 116,
   "id": "d75eff2d-8ae8-4872-8849-548e4076a84d",
   "metadata": {},
   "outputs": [
    {
     "data": {
      "text/plain": [
       "array([ 0,  1,  2,  3,  4,  5,  6,  7,  8,  9, 10])"
      ]
     },
     "execution_count": 116,
     "metadata": {},
     "output_type": "execute_result"
    }
   ],
   "source": [
    "coba = np.arange(0,11)\n",
    "coba"
   ]
  },
  {
   "cell_type": "code",
   "execution_count": 117,
   "id": "0465012f-94e2-41ad-be99-588558998622",
   "metadata": {},
   "outputs": [
    {
     "data": {
      "text/plain": [
       "6"
      ]
     },
     "execution_count": 117,
     "metadata": {},
     "output_type": "execute_result"
    }
   ],
   "source": [
    "coba[6]"
   ]
  },
  {
   "cell_type": "code",
   "execution_count": 118,
   "id": "f1648269-8bb2-4e25-84b7-aa37c0f00829",
   "metadata": {},
   "outputs": [
    {
     "data": {
      "text/plain": [
       "array([ 5,  6,  7,  8,  9, 10])"
      ]
     },
     "execution_count": 118,
     "metadata": {},
     "output_type": "execute_result"
    }
   ],
   "source": [
    "coba[5:]"
   ]
  },
  {
   "cell_type": "code",
   "execution_count": 119,
   "id": "215b04d8-a640-4527-8e1e-db8eb196a457",
   "metadata": {},
   "outputs": [
    {
     "data": {
      "text/plain": [
       "array([5, 6, 7])"
      ]
     },
     "execution_count": 119,
     "metadata": {},
     "output_type": "execute_result"
    }
   ],
   "source": [
    "coba[5:8]"
   ]
  },
  {
   "cell_type": "code",
   "execution_count": 144,
   "id": "15475695-5b15-4a17-9c5c-0f5785f8cab1",
   "metadata": {},
   "outputs": [],
   "source": [
    "coba2 = coba.copy()"
   ]
  },
  {
   "cell_type": "code",
   "execution_count": 145,
   "id": "41c51483-a47e-45b1-a37a-529376fb03e4",
   "metadata": {},
   "outputs": [],
   "source": [
    "# coba2 = coba[:10] #tidak akan berdampak di coba"
   ]
  },
  {
   "cell_type": "code",
   "execution_count": 146,
   "id": "35ff3bdf-0600-4367-b03e-0fa4043d6d80",
   "metadata": {},
   "outputs": [
    {
     "data": {
      "text/plain": [
       "array([200, 200, 200, 200, 200, 200, 200, 200, 200, 200,  10])"
      ]
     },
     "execution_count": 146,
     "metadata": {},
     "output_type": "execute_result"
    }
   ],
   "source": [
    "coba2"
   ]
  },
  {
   "cell_type": "code",
   "execution_count": 147,
   "id": "0d127143-c27b-41d0-9a65-a51b6c9300b8",
   "metadata": {},
   "outputs": [],
   "source": [
    "#di Numpy, coba2 akan berdampak ke coba \n",
    "coba2[:] = 300"
   ]
  },
  {
   "cell_type": "code",
   "execution_count": 148,
   "id": "3ad5262d-225e-40e9-a870-5e9f5eee9512",
   "metadata": {},
   "outputs": [
    {
     "data": {
      "text/plain": [
       "array([300, 300, 300, 300, 300, 300, 300, 300, 300, 300, 300])"
      ]
     },
     "execution_count": 148,
     "metadata": {},
     "output_type": "execute_result"
    }
   ],
   "source": [
    "coba2"
   ]
  },
  {
   "cell_type": "code",
   "execution_count": 149,
   "id": "3591d2fe-6b6c-49d4-9b1c-dd95ec2491db",
   "metadata": {},
   "outputs": [
    {
     "data": {
      "text/plain": [
       "array([200, 200, 200, 200, 200, 200, 200, 200, 200, 200,  10])"
      ]
     },
     "execution_count": 149,
     "metadata": {},
     "output_type": "execute_result"
    }
   ],
   "source": [
    "coba"
   ]
  },
  {
   "cell_type": "code",
   "execution_count": 150,
   "id": "81cda3f4-5db4-492d-bcaa-7aa8a648ed76",
   "metadata": {},
   "outputs": [],
   "source": [
    "# cara coba2 biar berdiri sendiri agar tidak mempengaruhi coba yaitu copy\n"
   ]
  },
  {
   "cell_type": "code",
   "execution_count": 152,
   "id": "f87e2411-2a4b-4fdd-be64-f0d505aeec84",
   "metadata": {},
   "outputs": [],
   "source": [
    "bil2d = np.array([[1,2,3],[4,5,6],[7,8,9]])"
   ]
  },
  {
   "cell_type": "code",
   "execution_count": 153,
   "id": "b5a22de9-aa1e-4968-be68-3e915fdad0f3",
   "metadata": {},
   "outputs": [
    {
     "data": {
      "text/plain": [
       "array([[1, 2, 3],\n",
       "       [4, 5, 6],\n",
       "       [7, 8, 9]])"
      ]
     },
     "execution_count": 153,
     "metadata": {},
     "output_type": "execute_result"
    }
   ],
   "source": [
    "bil2d"
   ]
  },
  {
   "cell_type": "code",
   "execution_count": 154,
   "id": "334acdd6-8ce9-49a4-b055-210cda3330bb",
   "metadata": {},
   "outputs": [
    {
     "data": {
      "text/plain": [
       "1"
      ]
     },
     "execution_count": 154,
     "metadata": {},
     "output_type": "execute_result"
    }
   ],
   "source": [
    "bil2d[0][0]"
   ]
  },
  {
   "cell_type": "code",
   "execution_count": 158,
   "id": "705adb52-e117-48c9-965d-50f0015baaa0",
   "metadata": {},
   "outputs": [
    {
     "data": {
      "text/plain": [
       "6"
      ]
     },
     "execution_count": 158,
     "metadata": {},
     "output_type": "execute_result"
    }
   ],
   "source": [
    "bil2d[1][2] # tidak direkomendasikan numpy "
   ]
  },
  {
   "cell_type": "code",
   "execution_count": 159,
   "id": "da958f22-e2ca-4e46-8453-888625dfaf8b",
   "metadata": {},
   "outputs": [
    {
     "data": {
      "text/plain": [
       "6"
      ]
     },
     "execution_count": 159,
     "metadata": {},
     "output_type": "execute_result"
    }
   ],
   "source": [
    "#harusnya seperti ini \n",
    "bil2d[1,2]"
   ]
  },
  {
   "cell_type": "code",
   "execution_count": 160,
   "id": "fe285ba6-5ea2-4b2b-bc48-a77067b17954",
   "metadata": {},
   "outputs": [
    {
     "data": {
      "text/plain": [
       "array([[1, 2, 3],\n",
       "       [4, 5, 6],\n",
       "       [7, 8, 9]])"
      ]
     },
     "execution_count": 160,
     "metadata": {},
     "output_type": "execute_result"
    }
   ],
   "source": [
    "bil2d"
   ]
  },
  {
   "cell_type": "code",
   "execution_count": 165,
   "id": "72b7ce73-9959-465f-925b-502d070041b7",
   "metadata": {},
   "outputs": [
    {
     "data": {
      "text/plain": [
       "array([[5, 6]])"
      ]
     },
     "execution_count": 165,
     "metadata": {},
     "output_type": "execute_result"
    }
   ],
   "source": [
    "bil2d[1:2,1:]"
   ]
  },
  {
   "cell_type": "code",
   "execution_count": 187,
   "id": "fa8c161c-48b2-436b-9442-496c64152bef",
   "metadata": {},
   "outputs": [
    {
     "data": {
      "text/plain": [
       "array([[4, 5]])"
      ]
     },
     "execution_count": 187,
     "metadata": {},
     "output_type": "execute_result"
    }
   ],
   "source": [
    "bil2d[1:2,0:2]"
   ]
  },
  {
   "cell_type": "code",
   "execution_count": 188,
   "id": "b6627fe6-5b60-4b3f-8f4e-a4ce6f2ea5af",
   "metadata": {},
   "outputs": [
    {
     "data": {
      "text/plain": [
       "array([[2, 3]])"
      ]
     },
     "execution_count": 188,
     "metadata": {},
     "output_type": "execute_result"
    }
   ],
   "source": [
    "bil2d[0:1,1:]"
   ]
  },
  {
   "cell_type": "code",
   "execution_count": 189,
   "id": "200ea680-eb3e-4cce-9048-ca4efb50e927",
   "metadata": {},
   "outputs": [
    {
     "data": {
      "text/plain": [
       "array([[1, 2]])"
      ]
     },
     "execution_count": 189,
     "metadata": {},
     "output_type": "execute_result"
    }
   ],
   "source": [
    "bil2d[0:1, 0:2]"
   ]
  },
  {
   "cell_type": "markdown",
   "id": "651a8596-7fe6-4b06-9c81-a469f5f272a8",
   "metadata": {},
   "source": [
    "### Slicing dengan Boolean di Numpy"
   ]
  },
  {
   "cell_type": "code",
   "execution_count": 205,
   "id": "0075600d-1c8d-424f-b32d-a924924f4c2e",
   "metadata": {},
   "outputs": [],
   "source": [
    "import numpy as np"
   ]
  },
  {
   "cell_type": "code",
   "execution_count": 212,
   "id": "545045b3-bb79-48a4-9077-9c8e0fc8274d",
   "metadata": {},
   "outputs": [],
   "source": [
    "bil = np.arange(1,11)"
   ]
  },
  {
   "cell_type": "code",
   "execution_count": 213,
   "id": "06f20ce8-0e23-4182-b5b0-a7310d723f77",
   "metadata": {},
   "outputs": [
    {
     "data": {
      "text/plain": [
       "array([ 1,  2,  3,  4,  5,  6,  7,  8,  9, 10])"
      ]
     },
     "execution_count": 213,
     "metadata": {},
     "output_type": "execute_result"
    }
   ],
   "source": [
    "bil"
   ]
  },
  {
   "cell_type": "code",
   "execution_count": 208,
   "id": "8a3bb1ca-209e-4cd2-a8a0-7c069586780e",
   "metadata": {},
   "outputs": [],
   "source": [
    "angkaB = bil<6"
   ]
  },
  {
   "cell_type": "code",
   "execution_count": 209,
   "id": "88440f25-a1f0-4b4d-8992-d31626bbf92a",
   "metadata": {},
   "outputs": [
    {
     "data": {
      "text/plain": [
       "array([ True,  True,  True,  True,  True, False, False, False, False,\n",
       "       False])"
      ]
     },
     "execution_count": 209,
     "metadata": {},
     "output_type": "execute_result"
    }
   ],
   "source": [
    "angkaB"
   ]
  },
  {
   "cell_type": "code",
   "execution_count": 210,
   "id": "dc500879-0b44-419b-9d47-eeb47ba796cd",
   "metadata": {},
   "outputs": [],
   "source": [
    "bil = bil[angkaB]"
   ]
  },
  {
   "cell_type": "code",
   "execution_count": 214,
   "id": "8fad806e-ccd4-45a6-925f-7586a0c0e92d",
   "metadata": {},
   "outputs": [
    {
     "data": {
      "text/plain": [
       "array([ 1,  2,  3,  4,  5,  6,  7,  8,  9, 10])"
      ]
     },
     "execution_count": 214,
     "metadata": {},
     "output_type": "execute_result"
    }
   ],
   "source": [
    "bil"
   ]
  },
  {
   "cell_type": "code",
   "execution_count": 215,
   "id": "727f680c-ea4e-4542-b201-b4a4b4c33aa8",
   "metadata": {},
   "outputs": [
    {
     "data": {
      "text/plain": [
       "array([ 6,  7,  8,  9, 10])"
      ]
     },
     "execution_count": 215,
     "metadata": {},
     "output_type": "execute_result"
    }
   ],
   "source": [
    "bil[bil>5]"
   ]
  },
  {
   "cell_type": "code",
   "execution_count": 216,
   "id": "e118468d-ebef-4a8e-855a-b7546ef2f092",
   "metadata": {},
   "outputs": [
    {
     "data": {
      "text/plain": [
       "array([ 1,  2,  3,  4,  5,  6,  7,  8,  9, 10])"
      ]
     },
     "execution_count": 216,
     "metadata": {},
     "output_type": "execute_result"
    }
   ],
   "source": [
    "bil"
   ]
  },
  {
   "cell_type": "code",
   "execution_count": 217,
   "id": "67d4c5d0-617b-4abe-bdb6-688f1f3cb536",
   "metadata": {},
   "outputs": [],
   "source": [
    "bil = bil[bil>5]"
   ]
  },
  {
   "cell_type": "code",
   "execution_count": 218,
   "id": "defecc2c-79a5-4b78-b675-0d9b0311dbb4",
   "metadata": {},
   "outputs": [
    {
     "data": {
      "text/plain": [
       "array([ 6,  7,  8,  9, 10])"
      ]
     },
     "execution_count": 218,
     "metadata": {},
     "output_type": "execute_result"
    }
   ],
   "source": [
    "bil"
   ]
  },
  {
   "cell_type": "code",
   "execution_count": null,
   "id": "21b91715-a13f-438a-8cd3-5f956d148a9e",
   "metadata": {},
   "outputs": [],
   "source": []
  }
 ],
 "metadata": {
  "kernelspec": {
   "display_name": "Python 3 (ipykernel)",
   "language": "python",
   "name": "python3"
  },
  "language_info": {
   "codemirror_mode": {
    "name": "ipython",
    "version": 3
   },
   "file_extension": ".py",
   "mimetype": "text/x-python",
   "name": "python",
   "nbconvert_exporter": "python",
   "pygments_lexer": "ipython3",
   "version": "3.12.0"
  }
 },
 "nbformat": 4,
 "nbformat_minor": 5
}
