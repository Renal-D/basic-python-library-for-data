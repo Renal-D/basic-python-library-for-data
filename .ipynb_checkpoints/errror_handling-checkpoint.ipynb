{
 "cells": [
  {
   "cell_type": "markdown",
   "id": "c3ebe28e-2932-4b80-b7e0-b96f67bb25c2",
   "metadata": {},
   "source": [
    "### Error Handling\n",
    "Try, Except, Finally, Raise"
   ]
  },
  {
   "cell_type": "code",
   "execution_count": 1,
   "id": "10de9184-2f13-4b53-a6bf-550a965fa9c2",
   "metadata": {},
   "outputs": [
    {
     "name": "stdout",
     "output_type": "stream",
     "text": [
      "kotak\n"
     ]
    }
   ],
   "source": [
    "print('kotak')"
   ]
  },
  {
   "cell_type": "code",
   "execution_count": 2,
   "id": "9ec3de8d-b363-4ecf-b277-771ec3bbdfff",
   "metadata": {},
   "outputs": [
    {
     "name": "stdout",
     "output_type": "stream",
     "text": [
      "3\n"
     ]
    }
   ],
   "source": [
    "print(1+2)"
   ]
  },
  {
   "cell_type": "code",
   "execution_count": 3,
   "id": "0897f048-6cc5-4808-ab45-100f853b1b16",
   "metadata": {},
   "outputs": [
    {
     "ename": "TypeError",
     "evalue": "unsupported operand type(s) for +: 'int' and 'str'",
     "output_type": "error",
     "traceback": [
      "\u001b[1;31m---------------------------------------------------------------------------\u001b[0m",
      "\u001b[1;31mTypeError\u001b[0m                                 Traceback (most recent call last)",
      "Cell \u001b[1;32mIn[3], line 1\u001b[0m\n\u001b[1;32m----> 1\u001b[0m \u001b[38;5;28mprint\u001b[39m(\u001b[38;5;241;43m1\u001b[39;49m\u001b[38;5;241;43m+\u001b[39;49m\u001b[38;5;124;43m'\u001b[39;49m\u001b[38;5;124;43m2\u001b[39;49m\u001b[38;5;124;43m'\u001b[39;49m)\n",
      "\u001b[1;31mTypeError\u001b[0m: unsupported operand type(s) for +: 'int' and 'str'"
     ]
    }
   ],
   "source": [
    "print(1+'2')"
   ]
  },
  {
   "cell_type": "code",
   "execution_count": 4,
   "id": "49a7c3a1-79d5-467b-8b6c-4a3558011e32",
   "metadata": {},
   "outputs": [
    {
     "ename": "ZeroDivisionError",
     "evalue": "division by zero",
     "output_type": "error",
     "traceback": [
      "\u001b[1;31m---------------------------------------------------------------------------\u001b[0m",
      "\u001b[1;31mZeroDivisionError\u001b[0m                         Traceback (most recent call last)",
      "Cell \u001b[1;32mIn[4], line 1\u001b[0m\n\u001b[1;32m----> 1\u001b[0m \u001b[38;5;28mprint\u001b[39m(\u001b[38;5;241;43m1\u001b[39;49m\u001b[38;5;241;43m/\u001b[39;49m\u001b[38;5;241;43m0\u001b[39;49m)\n",
      "\u001b[1;31mZeroDivisionError\u001b[0m: division by zero"
     ]
    }
   ],
   "source": [
    "print(1/0)"
   ]
  },
  {
   "cell_type": "code",
   "execution_count": 6,
   "id": "edc1d613-a028-45af-a287-2783e83ce7e0",
   "metadata": {},
   "outputs": [
    {
     "name": "stdin",
     "output_type": "stream",
     "text": [
      "masukkanlah angka:  1\n"
     ]
    },
    {
     "name": "stdout",
     "output_type": "stream",
     "text": [
      "1\n"
     ]
    }
   ],
   "source": [
    "print(input('masukkanlah angka: '))"
   ]
  },
  {
   "cell_type": "code",
   "execution_count": 7,
   "id": "bc898bd5-f8d6-42fe-9362-448c2fd65bae",
   "metadata": {},
   "outputs": [
    {
     "name": "stdin",
     "output_type": "stream",
     "text": [
      "masukkanlah angka:  dan\n"
     ]
    },
    {
     "ename": "ValueError",
     "evalue": "invalid literal for int() with base 10: 'dan'",
     "output_type": "error",
     "traceback": [
      "\u001b[1;31m---------------------------------------------------------------------------\u001b[0m",
      "\u001b[1;31mValueError\u001b[0m                                Traceback (most recent call last)",
      "Cell \u001b[1;32mIn[7], line 1\u001b[0m\n\u001b[1;32m----> 1\u001b[0m \u001b[38;5;28mprint\u001b[39m(\u001b[38;5;28;43mint\u001b[39;49m\u001b[43m(\u001b[49m\u001b[38;5;28;43minput\u001b[39;49m\u001b[43m(\u001b[49m\u001b[38;5;124;43m'\u001b[39;49m\u001b[38;5;124;43mmasukkanlah angka: \u001b[39;49m\u001b[38;5;124;43m'\u001b[39;49m\u001b[43m)\u001b[49m\u001b[43m)\u001b[49m)\n",
      "\u001b[1;31mValueError\u001b[0m: invalid literal for int() with base 10: 'dan'"
     ]
    }
   ],
   "source": [
    "print(int(input('masukkanlah angka: ')))"
   ]
  },
  {
   "cell_type": "code",
   "execution_count": 9,
   "id": "c7a4bbb1-262b-4e5d-baee-91b8c30de8b3",
   "metadata": {},
   "outputs": [
    {
     "name": "stdin",
     "output_type": "stream",
     "text": [
      "masukkanlah angka:  dan\n"
     ]
    },
    {
     "name": "stdout",
     "output_type": "stream",
     "text": [
      "tolong masukkan angka yang benar ya\n"
     ]
    }
   ],
   "source": [
    "try:\n",
    "    print(int(input('masukkanlah angka: ')))\n",
    "except:\n",
    "    print('tolong masukkan angka yang benar ya')"
   ]
  },
  {
   "cell_type": "code",
   "execution_count": 10,
   "id": "0b8c1a70-a854-41bc-a21f-3c6055fb9fa8",
   "metadata": {},
   "outputs": [
    {
     "name": "stdin",
     "output_type": "stream",
     "text": [
      "masukkanlah angka:  1\n"
     ]
    },
    {
     "name": "stdout",
     "output_type": "stream",
     "text": [
      "1\n"
     ]
    }
   ],
   "source": [
    "try:\n",
    "    print(int(input('masukkanlah angka: ')))\n",
    "except:\n",
    "    print('tolong masukkan angka yang benar ya')"
   ]
  },
  {
   "cell_type": "code",
   "execution_count": 12,
   "id": "ba3f9b5f-866a-470c-b893-43f0d470f235",
   "metadata": {},
   "outputs": [
    {
     "name": "stdin",
     "output_type": "stream",
     "text": [
      "masukkanlah angka:  dan\n"
     ]
    },
    {
     "name": "stdout",
     "output_type": "stream",
     "text": [
      "tolong masukkan angka yang benar ya\n"
     ]
    },
    {
     "name": "stdin",
     "output_type": "stream",
     "text": [
      "masukkanlah angka:  1\n"
     ]
    },
    {
     "name": "stdout",
     "output_type": "stream",
     "text": [
      "1\n",
      "terimaksih sudah memasukkan angka yang benar\n"
     ]
    }
   ],
   "source": [
    "while True:\n",
    "    try:\n",
    "        print(int(input('masukkanlah angka: ')))\n",
    "    except:\n",
    "        print('tolong masukkan angka yang benar ya')\n",
    "    else:\n",
    "        print('terimaksih sudah memasukkan angka yang benar')\n",
    "        break"
   ]
  },
  {
   "cell_type": "code",
   "execution_count": 3,
   "id": "96dfba04-01aa-4254-871f-e968f5df0326",
   "metadata": {},
   "outputs": [
    {
     "name": "stdin",
     "output_type": "stream",
     "text": [
      "masukkanlah angka:  renal\n"
     ]
    },
    {
     "name": "stdout",
     "output_type": "stream",
     "text": [
      "tolong masukkan angka dan bukan karakter\n"
     ]
    },
    {
     "name": "stdin",
     "output_type": "stream",
     "text": [
      "masukkanlah angka:  0\n"
     ]
    },
    {
     "name": "stdout",
     "output_type": "stream",
     "text": [
      "tolong masukkan angka lebih besar dari 0\n"
     ]
    },
    {
     "name": "stdin",
     "output_type": "stream",
     "text": [
      "masukkanlah angka:  1\n"
     ]
    },
    {
     "name": "stdout",
     "output_type": "stream",
     "text": [
      "20.0\n",
      "terimaksih sudah memasukkan angka yang benar\n"
     ]
    }
   ],
   "source": [
    "while True:\n",
    "    try:\n",
    "        angka = int(input('masukkanlah angka: '))\n",
    "        print(20/angka)\n",
    "    except ZeroDivisionError:\n",
    "        print('tolong masukkan angka lebih besar dari 0')\n",
    "    except ValueError:\n",
    "        print('tolong masukkan angka dan bukan karakter')\n",
    "    else:\n",
    "        print('terimaksih sudah memasukkan angka yang benar')\n",
    "        break"
   ]
  },
  {
   "cell_type": "markdown",
   "id": "a1fe17e9-d17b-473a-aa3a-841de294a898",
   "metadata": {},
   "source": [
    "### Error Handling dalam sebuah fungsi\n"
   ]
  },
  {
   "cell_type": "code",
   "execution_count": 2,
   "id": "5fa60864-b9f8-4349-a1b4-3102b0b65ad8",
   "metadata": {},
   "outputs": [],
   "source": [
    "def hitung(a,b):\n",
    "    while True:\n",
    "        try:\n",
    "            return a+b\n",
    "        except:\n",
    "            print('Pastikan menginput 2 angka')\n",
    "            while True:\n",
    "                try:\n",
    "                    a = int(input('Masukkan angka pertama: '))\n",
    "                except:\n",
    "                    print('Masukkan angka, Jangan yang lain!')\n",
    "                else:\n",
    "                    break\n",
    "            while True:\n",
    "                try:\n",
    "                    b = int(input('Masukkan angka kedua: '))\n",
    "                except:\n",
    "                    print('Masukkan angka, Jangan yang lain!')\n",
    "                else:\n",
    "                    break   "
   ]
  },
  {
   "cell_type": "code",
   "execution_count": 3,
   "id": "ac4efd31-caee-4d71-a62e-561d89be793c",
   "metadata": {},
   "outputs": [
    {
     "name": "stdout",
     "output_type": "stream",
     "text": [
      "6\n"
     ]
    }
   ],
   "source": [
    "print(hitung(1,5))"
   ]
  },
  {
   "cell_type": "code",
   "execution_count": 5,
   "id": "d5d7eeed-cc64-45c0-b9c9-d2c555350e53",
   "metadata": {},
   "outputs": [
    {
     "name": "stdout",
     "output_type": "stream",
     "text": [
      "Pastikan menginput 2 angka\n"
     ]
    },
    {
     "name": "stdin",
     "output_type": "stream",
     "text": [
      "Masukkan angka pertama:  1\n",
      "Masukkan angka kedua:  1\n"
     ]
    },
    {
     "name": "stdout",
     "output_type": "stream",
     "text": [
      "2\n"
     ]
    }
   ],
   "source": [
    "print(hitung(1,'as'))"
   ]
  },
  {
   "cell_type": "code",
   "execution_count": 12,
   "id": "2a92c030-7755-4868-a28c-a38be7d796a5",
   "metadata": {},
   "outputs": [
    {
     "name": "stdin",
     "output_type": "stream",
     "text": [
      "masukkan angka 2\n"
     ]
    },
    {
     "name": "stdout",
     "output_type": "stream",
     "text": [
      "masukkan angka bukan karakter\n",
      "SAYA SELALU JALAN\n"
     ]
    }
   ],
   "source": [
    "try:\n",
    "    angka = int(input('masukkan angka'))\n",
    "    10/angka\n",
    "    raise ValueError()\n",
    "except ZeroDivisionError: \n",
    "    print('masukkan angka lebih dari 0')\n",
    "except ValueError:\n",
    "    print('masukkan angka bukan karakter')\n",
    "else: \n",
    "    print(angka)\n",
    "finally:\n",
    "    print('SAYA SELALU JALAN')"
   ]
  },
  {
   "cell_type": "code",
   "execution_count": 16,
   "id": "53b0c22a-0909-46b5-9811-85fdebcce7e0",
   "metadata": {},
   "outputs": [
    {
     "name": "stdin",
     "output_type": "stream",
     "text": [
      "masukkan angka 2\n"
     ]
    },
    {
     "name": "stdout",
     "output_type": "stream",
     "text": [
      "SAYA SELALU JALAN\n"
     ]
    },
    {
     "ename": "ZeroDivisionError",
     "evalue": "Hai Browwww",
     "output_type": "error",
     "traceback": [
      "\u001b[1;31m---------------------------------------------------------------------------\u001b[0m",
      "\u001b[1;31mZeroDivisionError\u001b[0m                         Traceback (most recent call last)",
      "Cell \u001b[1;32mIn[16], line 4\u001b[0m\n\u001b[0;32m      2\u001b[0m     angka \u001b[38;5;241m=\u001b[39m \u001b[38;5;28mint\u001b[39m(\u001b[38;5;28minput\u001b[39m(\u001b[38;5;124m'\u001b[39m\u001b[38;5;124mmasukkan angka\u001b[39m\u001b[38;5;124m'\u001b[39m))\n\u001b[0;32m      3\u001b[0m     \u001b[38;5;241m10\u001b[39m\u001b[38;5;241m/\u001b[39mangka\n\u001b[1;32m----> 4\u001b[0m     \u001b[38;5;28;01mraise\u001b[39;00m \u001b[38;5;167;01mZeroDivisionError\u001b[39;00m(\u001b[38;5;124m'\u001b[39m\u001b[38;5;124mHai Browwww\u001b[39m\u001b[38;5;124m'\u001b[39m) \u001b[38;5;66;03m# selalu memunculkan error sesuai keterangan yang kita buat\u001b[39;00m\n\u001b[0;32m      5\u001b[0m \u001b[38;5;28;01mfinally\u001b[39;00m:\n\u001b[0;32m      6\u001b[0m     \u001b[38;5;28mprint\u001b[39m(\u001b[38;5;124m'\u001b[39m\u001b[38;5;124mSAYA SELALU JALAN\u001b[39m\u001b[38;5;124m'\u001b[39m)\n",
      "\u001b[1;31mZeroDivisionError\u001b[0m: Hai Browwww"
     ]
    }
   ],
   "source": [
    "try:\n",
    "    angka = int(input('masukkan angka'))\n",
    "    10/angka\n",
    "    raise ZeroDivisionError('Hai Browwww') # selalu memunculkan error sesuai keterangan yang kita buat\n",
    "finally:\n",
    "    print('SAYA SELALU JALAN')"
   ]
  },
  {
   "cell_type": "code",
   "execution_count": null,
   "id": "1135d6c5-a4de-49e9-90c4-138d57136855",
   "metadata": {},
   "outputs": [],
   "source": []
  }
 ],
 "metadata": {
  "kernelspec": {
   "display_name": "Python 3 (ipykernel)",
   "language": "python",
   "name": "python3"
  },
  "language_info": {
   "codemirror_mode": {
    "name": "ipython",
    "version": 3
   },
   "file_extension": ".py",
   "mimetype": "text/x-python",
   "name": "python",
   "nbconvert_exporter": "python",
   "pygments_lexer": "ipython3",
   "version": "3.12.0"
  }
 },
 "nbformat": 4,
 "nbformat_minor": 5
}
