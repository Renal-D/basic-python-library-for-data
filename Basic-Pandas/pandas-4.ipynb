{
 "cells": [
  {
   "cell_type": "markdown",
   "id": "075238fb-c621-4cb6-93b4-3e6401fa5b1b",
   "metadata": {},
   "source": [
    "### Format data pandas 'Series' dan 'DataFrame'"
   ]
  },
  {
   "cell_type": "code",
   "execution_count": 1,
   "id": "d78b7b1e-b4cd-4d25-bb4e-e6b3f7833531",
   "metadata": {},
   "outputs": [],
   "source": [
    "import pandas as pd\n",
    "import numpy as np"
   ]
  },
  {
   "cell_type": "code",
   "execution_count": null,
   "id": "f70e60e3-9b12-41b4-b046-f6901cc1d051",
   "metadata": {},
   "outputs": [],
   "source": []
  }
 ],
 "metadata": {
  "kernelspec": {
   "display_name": "Python 3 (ipykernel)",
   "language": "python",
   "name": "python3"
  },
  "language_info": {
   "codemirror_mode": {
    "name": "ipython",
    "version": 3
   },
   "file_extension": ".py",
   "mimetype": "text/x-python",
   "name": "python",
   "nbconvert_exporter": "python",
   "pygments_lexer": "ipython3",
   "version": "3.12.0"
  }
 },
 "nbformat": 4,
 "nbformat_minor": 5
}
