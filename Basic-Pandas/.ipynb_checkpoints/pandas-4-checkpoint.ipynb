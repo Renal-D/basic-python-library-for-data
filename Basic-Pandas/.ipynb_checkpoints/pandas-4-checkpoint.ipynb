{
 "cells": [
  {
   "cell_type": "markdown",
   "id": "075238fb-c621-4cb6-93b4-3e6401fa5b1b",
   "metadata": {},
   "source": [
    "### Format data pandas 'Series' dan 'DataFrame'"
   ]
  },
  {
   "cell_type": "code",
   "execution_count": 5,
   "id": "d78b7b1e-b4cd-4d25-bb4e-e6b3f7833531",
   "metadata": {},
   "outputs": [],
   "source": [
    "import pandas as pd\n",
    "import numpy as np"
   ]
  },
  {
   "cell_type": "code",
   "execution_count": 8,
   "id": "f70e60e3-9b12-41b4-b046-f6901cc1d051",
   "metadata": {},
   "outputs": [],
   "source": [
    "label = ['satu','dua', 'tiga']\n",
    "angka = 10,20,30"
   ]
  },
  {
   "cell_type": "code",
   "execution_count": 9,
   "id": "48cb75ed-1eac-48f8-b1a4-04acdd13f6d7",
   "metadata": {},
   "outputs": [],
   "source": [
    "np_angka = np.array(angka)"
   ]
  },
  {
   "cell_type": "code",
   "execution_count": 10,
   "id": "8b60b6d2-ee87-476c-aabe-796c9299d176",
   "metadata": {},
   "outputs": [
    {
     "data": {
      "text/plain": [
       "array([10, 20, 30])"
      ]
     },
     "execution_count": 10,
     "metadata": {},
     "output_type": "execute_result"
    }
   ],
   "source": [
    "np_angka"
   ]
  },
  {
   "cell_type": "code",
   "execution_count": 12,
   "id": "9a739689-5379-47e8-a7b6-949eb3ff11a6",
   "metadata": {},
   "outputs": [],
   "source": [
    "di = {'satu':10,'dua':20}"
   ]
  },
  {
   "cell_type": "code",
   "execution_count": 13,
   "id": "8e61f71e-db74-4fc6-b5f3-5107482ceae4",
   "metadata": {},
   "outputs": [
    {
     "data": {
      "text/plain": [
       "{'satu': 10, 'dua': 20}"
      ]
     },
     "execution_count": 13,
     "metadata": {},
     "output_type": "execute_result"
    }
   ],
   "source": [
    "di"
   ]
  },
  {
   "cell_type": "code",
   "execution_count": 18,
   "id": "0d5ba607-1fa1-4e97-92b8-258580e11108",
   "metadata": {},
   "outputs": [],
   "source": [
    "dataku= pd.Series(data=angka, index=label)"
   ]
  },
  {
   "cell_type": "code",
   "execution_count": 19,
   "id": "fea80d92-72e5-4367-bb01-05918ee10238",
   "metadata": {},
   "outputs": [
    {
     "data": {
      "text/plain": [
       "satu    10\n",
       "dua     20\n",
       "tiga    30\n",
       "dtype: int64"
      ]
     },
     "execution_count": 19,
     "metadata": {},
     "output_type": "execute_result"
    }
   ],
   "source": [
    "dataku"
   ]
  },
  {
   "cell_type": "code",
   "execution_count": 20,
   "id": "7eeb0bb9-2bd6-4ff8-b366-d1afd70e5740",
   "metadata": {},
   "outputs": [
    {
     "data": {
      "text/plain": [
       "10"
      ]
     },
     "execution_count": 20,
     "metadata": {},
     "output_type": "execute_result"
    }
   ],
   "source": [
    "dataku['satu']"
   ]
  },
  {
   "cell_type": "code",
   "execution_count": 23,
   "id": "e25f63f9-410c-490d-adae-71651f9821b8",
   "metadata": {},
   "outputs": [
    {
     "data": {
      "text/plain": [
       "10"
      ]
     },
     "execution_count": 23,
     "metadata": {},
     "output_type": "execute_result"
    }
   ],
   "source": [
    "np_angka[0]"
   ]
  },
  {
   "cell_type": "code",
   "execution_count": 25,
   "id": "1d4f3ea9-3b92-4d9a-b0e7-601ff31ca286",
   "metadata": {},
   "outputs": [
    {
     "data": {
      "text/plain": [
       "satu    10\n",
       "dua     20\n",
       "dtype: int64"
      ]
     },
     "execution_count": 25,
     "metadata": {},
     "output_type": "execute_result"
    }
   ],
   "source": [
    "pd.Series(di)"
   ]
  },
  {
   "cell_type": "code",
   "execution_count": 29,
   "id": "b2ad70dd-6592-4c85-9cb1-9d6c593ac0b1",
   "metadata": {},
   "outputs": [
    {
     "data": {
      "text/plain": [
       "0    10\n",
       "1    20\n",
       "2    30\n",
       "dtype: int32"
      ]
     },
     "execution_count": 29,
     "metadata": {},
     "output_type": "execute_result"
    }
   ],
   "source": [
    "pd.Series(np_angka) #ini int32"
   ]
  },
  {
   "cell_type": "code",
   "execution_count": 30,
   "id": "3cbe8872-971b-4a8d-863f-427050a11973",
   "metadata": {},
   "outputs": [
    {
     "data": {
      "text/plain": [
       "0    10\n",
       "1    20\n",
       "2    30\n",
       "dtype: int64"
      ]
     },
     "execution_count": 30,
     "metadata": {},
     "output_type": "execute_result"
    }
   ],
   "source": [
    "pd.Series(angka) #beda int64"
   ]
  },
  {
   "cell_type": "code",
   "execution_count": 32,
   "id": "3fefe84d-0672-4ad5-8a5a-eeaceacc2ba5",
   "metadata": {},
   "outputs": [
    {
     "data": {
      "text/html": [
       "<div>\n",
       "<style scoped>\n",
       "    .dataframe tbody tr th:only-of-type {\n",
       "        vertical-align: middle;\n",
       "    }\n",
       "\n",
       "    .dataframe tbody tr th {\n",
       "        vertical-align: top;\n",
       "    }\n",
       "\n",
       "    .dataframe thead th {\n",
       "        text-align: right;\n",
       "    }\n",
       "</style>\n",
       "<table border=\"1\" class=\"dataframe\">\n",
       "  <thead>\n",
       "    <tr style=\"text-align: right;\">\n",
       "      <th></th>\n",
       "      <th>0</th>\n",
       "    </tr>\n",
       "  </thead>\n",
       "  <tbody>\n",
       "    <tr>\n",
       "      <th>satu</th>\n",
       "      <td>10</td>\n",
       "    </tr>\n",
       "    <tr>\n",
       "      <th>dua</th>\n",
       "      <td>20</td>\n",
       "    </tr>\n",
       "    <tr>\n",
       "      <th>tiga</th>\n",
       "      <td>30</td>\n",
       "    </tr>\n",
       "  </tbody>\n",
       "</table>\n",
       "</div>"
      ],
      "text/plain": [
       "       0\n",
       "satu  10\n",
       "dua   20\n",
       "tiga  30"
      ]
     },
     "execution_count": 32,
     "metadata": {},
     "output_type": "execute_result"
    }
   ],
   "source": [
    "dataku.to_frame()"
   ]
  },
  {
   "cell_type": "code",
   "execution_count": 34,
   "id": "836471ff-5dc2-45a9-ae9a-c98f0e249b27",
   "metadata": {},
   "outputs": [],
   "source": [
    "d2 = {'satu':10,'dua':20, 'tiga':30, 'empat':40,'lima':50}"
   ]
  },
  {
   "cell_type": "code",
   "execution_count": 35,
   "id": "4064e04e-9b0e-4229-bdd1-42552ef8e86a",
   "metadata": {},
   "outputs": [],
   "source": [
    "dataku2 = pd.Series(d2)"
   ]
  },
  {
   "cell_type": "code",
   "execution_count": 37,
   "id": "2f2f58dd-fce1-4d21-9be0-9f440974fb2f",
   "metadata": {},
   "outputs": [
    {
     "data": {
      "text/plain": [
       "satu    10\n",
       "dua     20\n",
       "tiga    30\n",
       "dtype: int64"
      ]
     },
     "execution_count": 37,
     "metadata": {},
     "output_type": "execute_result"
    }
   ],
   "source": [
    "dataku"
   ]
  },
  {
   "cell_type": "code",
   "execution_count": 38,
   "id": "99ddf8e6-2362-4452-9207-8a95a7485b3c",
   "metadata": {},
   "outputs": [
    {
     "data": {
      "text/plain": [
       "satu     10\n",
       "dua      20\n",
       "tiga     30\n",
       "empat    40\n",
       "lima     50\n",
       "dtype: int64"
      ]
     },
     "execution_count": 38,
     "metadata": {},
     "output_type": "execute_result"
    }
   ],
   "source": [
    "dataku2"
   ]
  },
  {
   "cell_type": "code",
   "execution_count": 40,
   "id": "1d1ac26b-0ab6-4eed-a21e-30e0726df7b6",
   "metadata": {},
   "outputs": [
    {
     "data": {
      "text/plain": [
       "dua      40.0\n",
       "empat     NaN\n",
       "lima      NaN\n",
       "satu     20.0\n",
       "tiga     60.0\n",
       "dtype: float64"
      ]
     },
     "execution_count": 40,
     "metadata": {},
     "output_type": "execute_result"
    }
   ],
   "source": [
    "dataku + dataku2 #NaN karena memang tidak ada pasangan yang dijumlahkan"
   ]
  },
  {
   "cell_type": "markdown",
   "id": "33b095a1-0acf-4167-be66-a638b719662a",
   "metadata": {},
   "source": [
    "### DataFrame"
   ]
  },
  {
   "cell_type": "code",
   "execution_count": 41,
   "id": "7b06bfbb-7424-4b23-affc-52acf3421843",
   "metadata": {},
   "outputs": [],
   "source": [
    "import numpy as np\n",
    "import pandas as pd"
   ]
  },
  {
   "cell_type": "code",
   "execution_count": 48,
   "id": "7b438ce4-f249-4b5b-b349-e1abda270a2c",
   "metadata": {},
   "outputs": [],
   "source": [
    "np.random.seed(100)"
   ]
  },
  {
   "cell_type": "code",
   "execution_count": 55,
   "id": "1fdbe663-e978-45bf-8c51-012189c24af0",
   "metadata": {},
   "outputs": [],
   "source": [
    "datakuu = pd.DataFrame(np.random.randn(3,5), ['A','B','C'],['satu','dua','tiga','empat','lima'])"
   ]
  },
  {
   "cell_type": "code",
   "execution_count": 56,
   "id": "a76bb7f3-422f-412c-a128-a7706343bcd1",
   "metadata": {},
   "outputs": [
    {
     "data": {
      "text/html": [
       "<div>\n",
       "<style scoped>\n",
       "    .dataframe tbody tr th:only-of-type {\n",
       "        vertical-align: middle;\n",
       "    }\n",
       "\n",
       "    .dataframe tbody tr th {\n",
       "        vertical-align: top;\n",
       "    }\n",
       "\n",
       "    .dataframe thead th {\n",
       "        text-align: right;\n",
       "    }\n",
       "</style>\n",
       "<table border=\"1\" class=\"dataframe\">\n",
       "  <thead>\n",
       "    <tr style=\"text-align: right;\">\n",
       "      <th></th>\n",
       "      <th>satu</th>\n",
       "      <th>dua</th>\n",
       "      <th>tiga</th>\n",
       "      <th>empat</th>\n",
       "      <th>lima</th>\n",
       "    </tr>\n",
       "  </thead>\n",
       "  <tbody>\n",
       "    <tr>\n",
       "      <th>A</th>\n",
       "      <td>-0.104411</td>\n",
       "      <td>-0.531280</td>\n",
       "      <td>1.029733</td>\n",
       "      <td>-0.438136</td>\n",
       "      <td>-1.118318</td>\n",
       "    </tr>\n",
       "    <tr>\n",
       "      <th>B</th>\n",
       "      <td>1.618982</td>\n",
       "      <td>1.541605</td>\n",
       "      <td>-0.251879</td>\n",
       "      <td>-0.842436</td>\n",
       "      <td>0.184519</td>\n",
       "    </tr>\n",
       "    <tr>\n",
       "      <th>C</th>\n",
       "      <td>0.937082</td>\n",
       "      <td>0.731000</td>\n",
       "      <td>1.361556</td>\n",
       "      <td>-0.326238</td>\n",
       "      <td>0.055676</td>\n",
       "    </tr>\n",
       "  </tbody>\n",
       "</table>\n",
       "</div>"
      ],
      "text/plain": [
       "       satu       dua      tiga     empat      lima\n",
       "A -0.104411 -0.531280  1.029733 -0.438136 -1.118318\n",
       "B  1.618982  1.541605 -0.251879 -0.842436  0.184519\n",
       "C  0.937082  0.731000  1.361556 -0.326238  0.055676"
      ]
     },
     "execution_count": 56,
     "metadata": {},
     "output_type": "execute_result"
    }
   ],
   "source": [
    "datakuu"
   ]
  },
  {
   "cell_type": "code",
   "execution_count": 74,
   "id": "d8378d9d-9182-4c12-b1c2-13dab19330ee",
   "metadata": {},
   "outputs": [
    {
     "data": {
      "text/plain": [
       "A   -0.531280\n",
       "B    1.541605\n",
       "C    0.731000\n",
       "Name: dua, dtype: float64"
      ]
     },
     "execution_count": 74,
     "metadata": {},
     "output_type": "execute_result"
    }
   ],
   "source": [
    "datakuu['dua']"
   ]
  },
  {
   "cell_type": "code",
   "execution_count": 75,
   "id": "c25ba098-24cc-4a1c-af9d-a3df9a202404",
   "metadata": {},
   "outputs": [
    {
     "data": {
      "text/plain": [
       "pandas.core.series.Series"
      ]
     },
     "execution_count": 75,
     "metadata": {},
     "output_type": "execute_result"
    }
   ],
   "source": [
    "type(datakuu['dua'])"
   ]
  },
  {
   "cell_type": "markdown",
   "id": "d160fb41-c3e8-4a7d-b269-c580bfb8ce62",
   "metadata": {},
   "source": [
    "#### iloc dan loc"
   ]
  },
  {
   "cell_type": "code",
   "execution_count": 76,
   "id": "194bc374-6551-4251-b0cd-8c6783627baa",
   "metadata": {},
   "outputs": [],
   "source": [
    "datakuu['baru'] = datakuu['empat'] + datakuu['lima']"
   ]
  },
  {
   "cell_type": "code",
   "execution_count": 77,
   "id": "848e3ed7-859f-4a3d-99dc-ad025738e533",
   "metadata": {},
   "outputs": [
    {
     "data": {
      "text/html": [
       "<div>\n",
       "<style scoped>\n",
       "    .dataframe tbody tr th:only-of-type {\n",
       "        vertical-align: middle;\n",
       "    }\n",
       "\n",
       "    .dataframe tbody tr th {\n",
       "        vertical-align: top;\n",
       "    }\n",
       "\n",
       "    .dataframe thead th {\n",
       "        text-align: right;\n",
       "    }\n",
       "</style>\n",
       "<table border=\"1\" class=\"dataframe\">\n",
       "  <thead>\n",
       "    <tr style=\"text-align: right;\">\n",
       "      <th></th>\n",
       "      <th>satu</th>\n",
       "      <th>dua</th>\n",
       "      <th>tiga</th>\n",
       "      <th>empat</th>\n",
       "      <th>lima</th>\n",
       "      <th>baru</th>\n",
       "    </tr>\n",
       "  </thead>\n",
       "  <tbody>\n",
       "    <tr>\n",
       "      <th>A</th>\n",
       "      <td>-0.104411</td>\n",
       "      <td>-0.531280</td>\n",
       "      <td>1.029733</td>\n",
       "      <td>-0.438136</td>\n",
       "      <td>-1.118318</td>\n",
       "      <td>-1.556454</td>\n",
       "    </tr>\n",
       "    <tr>\n",
       "      <th>B</th>\n",
       "      <td>1.618982</td>\n",
       "      <td>1.541605</td>\n",
       "      <td>-0.251879</td>\n",
       "      <td>-0.842436</td>\n",
       "      <td>0.184519</td>\n",
       "      <td>-0.657917</td>\n",
       "    </tr>\n",
       "    <tr>\n",
       "      <th>C</th>\n",
       "      <td>0.937082</td>\n",
       "      <td>0.731000</td>\n",
       "      <td>1.361556</td>\n",
       "      <td>-0.326238</td>\n",
       "      <td>0.055676</td>\n",
       "      <td>-0.270562</td>\n",
       "    </tr>\n",
       "  </tbody>\n",
       "</table>\n",
       "</div>"
      ],
      "text/plain": [
       "       satu       dua      tiga     empat      lima      baru\n",
       "A -0.104411 -0.531280  1.029733 -0.438136 -1.118318 -1.556454\n",
       "B  1.618982  1.541605 -0.251879 -0.842436  0.184519 -0.657917\n",
       "C  0.937082  0.731000  1.361556 -0.326238  0.055676 -0.270562"
      ]
     },
     "execution_count": 77,
     "metadata": {},
     "output_type": "execute_result"
    }
   ],
   "source": [
    "datakuu"
   ]
  },
  {
   "cell_type": "code",
   "execution_count": 78,
   "id": "6c066c46-8822-48b9-9815-1707512119f6",
   "metadata": {},
   "outputs": [
    {
     "data": {
      "text/html": [
       "<div>\n",
       "<style scoped>\n",
       "    .dataframe tbody tr th:only-of-type {\n",
       "        vertical-align: middle;\n",
       "    }\n",
       "\n",
       "    .dataframe tbody tr th {\n",
       "        vertical-align: top;\n",
       "    }\n",
       "\n",
       "    .dataframe thead th {\n",
       "        text-align: right;\n",
       "    }\n",
       "</style>\n",
       "<table border=\"1\" class=\"dataframe\">\n",
       "  <thead>\n",
       "    <tr style=\"text-align: right;\">\n",
       "      <th></th>\n",
       "      <th>satu</th>\n",
       "      <th>dua</th>\n",
       "      <th>empat</th>\n",
       "      <th>lima</th>\n",
       "      <th>baru</th>\n",
       "    </tr>\n",
       "  </thead>\n",
       "  <tbody>\n",
       "    <tr>\n",
       "      <th>A</th>\n",
       "      <td>-0.104411</td>\n",
       "      <td>-0.531280</td>\n",
       "      <td>-0.438136</td>\n",
       "      <td>-1.118318</td>\n",
       "      <td>-1.556454</td>\n",
       "    </tr>\n",
       "    <tr>\n",
       "      <th>B</th>\n",
       "      <td>1.618982</td>\n",
       "      <td>1.541605</td>\n",
       "      <td>-0.842436</td>\n",
       "      <td>0.184519</td>\n",
       "      <td>-0.657917</td>\n",
       "    </tr>\n",
       "    <tr>\n",
       "      <th>C</th>\n",
       "      <td>0.937082</td>\n",
       "      <td>0.731000</td>\n",
       "      <td>-0.326238</td>\n",
       "      <td>0.055676</td>\n",
       "      <td>-0.270562</td>\n",
       "    </tr>\n",
       "  </tbody>\n",
       "</table>\n",
       "</div>"
      ],
      "text/plain": [
       "       satu       dua     empat      lima      baru\n",
       "A -0.104411 -0.531280 -0.438136 -1.118318 -1.556454\n",
       "B  1.618982  1.541605 -0.842436  0.184519 -0.657917\n",
       "C  0.937082  0.731000 -0.326238  0.055676 -0.270562"
      ]
     },
     "execution_count": 78,
     "metadata": {},
     "output_type": "execute_result"
    }
   ],
   "source": [
    "datakuu.drop('tiga', axis=1) #kalo mau dihilangkan total harus di reassignment dataku= ...."
   ]
  },
  {
   "cell_type": "code",
   "execution_count": 79,
   "id": "2c4cbaad-938f-4e68-9afb-f98c9ceeebf4",
   "metadata": {},
   "outputs": [],
   "source": [
    "datakuu.drop('baru', axis=1,inplace=True ) #jika ingin dihilangkan total juga bisa dengan inplace True"
   ]
  },
  {
   "cell_type": "code",
   "execution_count": 80,
   "id": "01b787cb-353c-4e81-bf71-7afaed9479a0",
   "metadata": {},
   "outputs": [
    {
     "data": {
      "text/html": [
       "<div>\n",
       "<style scoped>\n",
       "    .dataframe tbody tr th:only-of-type {\n",
       "        vertical-align: middle;\n",
       "    }\n",
       "\n",
       "    .dataframe tbody tr th {\n",
       "        vertical-align: top;\n",
       "    }\n",
       "\n",
       "    .dataframe thead th {\n",
       "        text-align: right;\n",
       "    }\n",
       "</style>\n",
       "<table border=\"1\" class=\"dataframe\">\n",
       "  <thead>\n",
       "    <tr style=\"text-align: right;\">\n",
       "      <th></th>\n",
       "      <th>satu</th>\n",
       "      <th>dua</th>\n",
       "      <th>tiga</th>\n",
       "      <th>empat</th>\n",
       "      <th>lima</th>\n",
       "    </tr>\n",
       "  </thead>\n",
       "  <tbody>\n",
       "    <tr>\n",
       "      <th>A</th>\n",
       "      <td>-0.104411</td>\n",
       "      <td>-0.531280</td>\n",
       "      <td>1.029733</td>\n",
       "      <td>-0.438136</td>\n",
       "      <td>-1.118318</td>\n",
       "    </tr>\n",
       "    <tr>\n",
       "      <th>B</th>\n",
       "      <td>1.618982</td>\n",
       "      <td>1.541605</td>\n",
       "      <td>-0.251879</td>\n",
       "      <td>-0.842436</td>\n",
       "      <td>0.184519</td>\n",
       "    </tr>\n",
       "    <tr>\n",
       "      <th>C</th>\n",
       "      <td>0.937082</td>\n",
       "      <td>0.731000</td>\n",
       "      <td>1.361556</td>\n",
       "      <td>-0.326238</td>\n",
       "      <td>0.055676</td>\n",
       "    </tr>\n",
       "  </tbody>\n",
       "</table>\n",
       "</div>"
      ],
      "text/plain": [
       "       satu       dua      tiga     empat      lima\n",
       "A -0.104411 -0.531280  1.029733 -0.438136 -1.118318\n",
       "B  1.618982  1.541605 -0.251879 -0.842436  0.184519\n",
       "C  0.937082  0.731000  1.361556 -0.326238  0.055676"
      ]
     },
     "execution_count": 80,
     "metadata": {},
     "output_type": "execute_result"
    }
   ],
   "source": [
    "datakuu"
   ]
  },
  {
   "cell_type": "code",
   "execution_count": 82,
   "id": "d6d49549-04be-4ac1-96e2-6e268b1d1546",
   "metadata": {},
   "outputs": [
    {
     "data": {
      "text/plain": [
       "(3, 5)"
      ]
     },
     "execution_count": 82,
     "metadata": {},
     "output_type": "execute_result"
    }
   ],
   "source": [
    "datakuu.shape"
   ]
  },
  {
   "cell_type": "code",
   "execution_count": 83,
   "id": "4e1962e7-2f3a-4b8e-bffd-6fcee1b436d8",
   "metadata": {},
   "outputs": [
    {
     "data": {
      "text/html": [
       "<div>\n",
       "<style scoped>\n",
       "    .dataframe tbody tr th:only-of-type {\n",
       "        vertical-align: middle;\n",
       "    }\n",
       "\n",
       "    .dataframe tbody tr th {\n",
       "        vertical-align: top;\n",
       "    }\n",
       "\n",
       "    .dataframe thead th {\n",
       "        text-align: right;\n",
       "    }\n",
       "</style>\n",
       "<table border=\"1\" class=\"dataframe\">\n",
       "  <thead>\n",
       "    <tr style=\"text-align: right;\">\n",
       "      <th></th>\n",
       "      <th>satu</th>\n",
       "      <th>dua</th>\n",
       "      <th>tiga</th>\n",
       "      <th>empat</th>\n",
       "      <th>lima</th>\n",
       "    </tr>\n",
       "  </thead>\n",
       "  <tbody>\n",
       "    <tr>\n",
       "      <th>A</th>\n",
       "      <td>True</td>\n",
       "      <td>True</td>\n",
       "      <td>False</td>\n",
       "      <td>True</td>\n",
       "      <td>True</td>\n",
       "    </tr>\n",
       "    <tr>\n",
       "      <th>B</th>\n",
       "      <td>False</td>\n",
       "      <td>False</td>\n",
       "      <td>True</td>\n",
       "      <td>True</td>\n",
       "      <td>False</td>\n",
       "    </tr>\n",
       "    <tr>\n",
       "      <th>C</th>\n",
       "      <td>False</td>\n",
       "      <td>False</td>\n",
       "      <td>False</td>\n",
       "      <td>True</td>\n",
       "      <td>False</td>\n",
       "    </tr>\n",
       "  </tbody>\n",
       "</table>\n",
       "</div>"
      ],
      "text/plain": [
       "    satu    dua   tiga  empat   lima\n",
       "A   True   True  False   True   True\n",
       "B  False  False   True   True  False\n",
       "C  False  False  False   True  False"
      ]
     },
     "execution_count": 83,
     "metadata": {},
     "output_type": "execute_result"
    }
   ],
   "source": [
    "datakuu < 0"
   ]
  },
  {
   "cell_type": "code",
   "execution_count": 84,
   "id": "7c0d6a05-cf1e-4473-9748-13930cbab35b",
   "metadata": {},
   "outputs": [
    {
     "data": {
      "text/html": [
       "<div>\n",
       "<style scoped>\n",
       "    .dataframe tbody tr th:only-of-type {\n",
       "        vertical-align: middle;\n",
       "    }\n",
       "\n",
       "    .dataframe tbody tr th {\n",
       "        vertical-align: top;\n",
       "    }\n",
       "\n",
       "    .dataframe thead th {\n",
       "        text-align: right;\n",
       "    }\n",
       "</style>\n",
       "<table border=\"1\" class=\"dataframe\">\n",
       "  <thead>\n",
       "    <tr style=\"text-align: right;\">\n",
       "      <th></th>\n",
       "      <th>satu</th>\n",
       "      <th>dua</th>\n",
       "      <th>tiga</th>\n",
       "      <th>empat</th>\n",
       "      <th>lima</th>\n",
       "    </tr>\n",
       "  </thead>\n",
       "  <tbody>\n",
       "    <tr>\n",
       "      <th>A</th>\n",
       "      <td>False</td>\n",
       "      <td>False</td>\n",
       "      <td>True</td>\n",
       "      <td>False</td>\n",
       "      <td>False</td>\n",
       "    </tr>\n",
       "    <tr>\n",
       "      <th>B</th>\n",
       "      <td>True</td>\n",
       "      <td>True</td>\n",
       "      <td>False</td>\n",
       "      <td>False</td>\n",
       "      <td>True</td>\n",
       "    </tr>\n",
       "    <tr>\n",
       "      <th>C</th>\n",
       "      <td>True</td>\n",
       "      <td>True</td>\n",
       "      <td>True</td>\n",
       "      <td>False</td>\n",
       "      <td>True</td>\n",
       "    </tr>\n",
       "  </tbody>\n",
       "</table>\n",
       "</div>"
      ],
      "text/plain": [
       "    satu    dua   tiga  empat   lima\n",
       "A  False  False   True  False  False\n",
       "B   True   True  False  False   True\n",
       "C   True   True   True  False   True"
      ]
     },
     "execution_count": 84,
     "metadata": {},
     "output_type": "execute_result"
    }
   ],
   "source": [
    "datakuu > 0"
   ]
  },
  {
   "cell_type": "code",
   "execution_count": 86,
   "id": "5988cf83-4a3d-47dd-89c7-4cc6585d8b7f",
   "metadata": {},
   "outputs": [
    {
     "data": {
      "text/html": [
       "<div>\n",
       "<style scoped>\n",
       "    .dataframe tbody tr th:only-of-type {\n",
       "        vertical-align: middle;\n",
       "    }\n",
       "\n",
       "    .dataframe tbody tr th {\n",
       "        vertical-align: top;\n",
       "    }\n",
       "\n",
       "    .dataframe thead th {\n",
       "        text-align: right;\n",
       "    }\n",
       "</style>\n",
       "<table border=\"1\" class=\"dataframe\">\n",
       "  <thead>\n",
       "    <tr style=\"text-align: right;\">\n",
       "      <th></th>\n",
       "      <th>satu</th>\n",
       "      <th>dua</th>\n",
       "      <th>tiga</th>\n",
       "      <th>empat</th>\n",
       "      <th>lima</th>\n",
       "    </tr>\n",
       "  </thead>\n",
       "  <tbody>\n",
       "    <tr>\n",
       "      <th>A</th>\n",
       "      <td>NaN</td>\n",
       "      <td>NaN</td>\n",
       "      <td>1.029733</td>\n",
       "      <td>NaN</td>\n",
       "      <td>NaN</td>\n",
       "    </tr>\n",
       "    <tr>\n",
       "      <th>B</th>\n",
       "      <td>1.618982</td>\n",
       "      <td>1.541605</td>\n",
       "      <td>NaN</td>\n",
       "      <td>NaN</td>\n",
       "      <td>0.184519</td>\n",
       "    </tr>\n",
       "    <tr>\n",
       "      <th>C</th>\n",
       "      <td>0.937082</td>\n",
       "      <td>0.731000</td>\n",
       "      <td>1.361556</td>\n",
       "      <td>NaN</td>\n",
       "      <td>0.055676</td>\n",
       "    </tr>\n",
       "  </tbody>\n",
       "</table>\n",
       "</div>"
      ],
      "text/plain": [
       "       satu       dua      tiga  empat      lima\n",
       "A       NaN       NaN  1.029733    NaN       NaN\n",
       "B  1.618982  1.541605       NaN    NaN  0.184519\n",
       "C  0.937082  0.731000  1.361556    NaN  0.055676"
      ]
     },
     "execution_count": 86,
     "metadata": {},
     "output_type": "execute_result"
    }
   ],
   "source": [
    "datakuu[datakuu > 0] # bisa memunculkan semua yang lebih dari 0"
   ]
  },
  {
   "cell_type": "code",
   "execution_count": 95,
   "id": "5c98c672-9e2c-4599-a783-c6c5535b9eea",
   "metadata": {},
   "outputs": [],
   "source": [
    "data_titan = pd.read_csv('kapal_titanic.csv')"
   ]
  },
  {
   "cell_type": "code",
   "execution_count": 96,
   "id": "b33d594a-6fa3-4ed0-904d-e20b28a084e0",
   "metadata": {},
   "outputs": [
    {
     "data": {
      "text/html": [
       "<div>\n",
       "<style scoped>\n",
       "    .dataframe tbody tr th:only-of-type {\n",
       "        vertical-align: middle;\n",
       "    }\n",
       "\n",
       "    .dataframe tbody tr th {\n",
       "        vertical-align: top;\n",
       "    }\n",
       "\n",
       "    .dataframe thead th {\n",
       "        text-align: right;\n",
       "    }\n",
       "</style>\n",
       "<table border=\"1\" class=\"dataframe\">\n",
       "  <thead>\n",
       "    <tr style=\"text-align: right;\">\n",
       "      <th></th>\n",
       "      <th>survived</th>\n",
       "      <th>pclass</th>\n",
       "      <th>sex</th>\n",
       "      <th>age</th>\n",
       "      <th>sibsp</th>\n",
       "      <th>parch</th>\n",
       "      <th>fare</th>\n",
       "      <th>embarked</th>\n",
       "      <th>deck</th>\n",
       "    </tr>\n",
       "  </thead>\n",
       "  <tbody>\n",
       "    <tr>\n",
       "      <th>0</th>\n",
       "      <td>0</td>\n",
       "      <td>3</td>\n",
       "      <td>male</td>\n",
       "      <td>22.0</td>\n",
       "      <td>1</td>\n",
       "      <td>0</td>\n",
       "      <td>7.2500</td>\n",
       "      <td>S</td>\n",
       "      <td>NaN</td>\n",
       "    </tr>\n",
       "    <tr>\n",
       "      <th>1</th>\n",
       "      <td>1</td>\n",
       "      <td>1</td>\n",
       "      <td>female</td>\n",
       "      <td>38.0</td>\n",
       "      <td>1</td>\n",
       "      <td>0</td>\n",
       "      <td>71.2833</td>\n",
       "      <td>C</td>\n",
       "      <td>C</td>\n",
       "    </tr>\n",
       "    <tr>\n",
       "      <th>2</th>\n",
       "      <td>1</td>\n",
       "      <td>3</td>\n",
       "      <td>female</td>\n",
       "      <td>26.0</td>\n",
       "      <td>0</td>\n",
       "      <td>0</td>\n",
       "      <td>7.9250</td>\n",
       "      <td>S</td>\n",
       "      <td>NaN</td>\n",
       "    </tr>\n",
       "    <tr>\n",
       "      <th>3</th>\n",
       "      <td>1</td>\n",
       "      <td>1</td>\n",
       "      <td>female</td>\n",
       "      <td>35.0</td>\n",
       "      <td>1</td>\n",
       "      <td>0</td>\n",
       "      <td>53.1000</td>\n",
       "      <td>S</td>\n",
       "      <td>C</td>\n",
       "    </tr>\n",
       "    <tr>\n",
       "      <th>4</th>\n",
       "      <td>0</td>\n",
       "      <td>3</td>\n",
       "      <td>male</td>\n",
       "      <td>35.0</td>\n",
       "      <td>0</td>\n",
       "      <td>0</td>\n",
       "      <td>8.0500</td>\n",
       "      <td>S</td>\n",
       "      <td>NaN</td>\n",
       "    </tr>\n",
       "    <tr>\n",
       "      <th>...</th>\n",
       "      <td>...</td>\n",
       "      <td>...</td>\n",
       "      <td>...</td>\n",
       "      <td>...</td>\n",
       "      <td>...</td>\n",
       "      <td>...</td>\n",
       "      <td>...</td>\n",
       "      <td>...</td>\n",
       "      <td>...</td>\n",
       "    </tr>\n",
       "    <tr>\n",
       "      <th>886</th>\n",
       "      <td>0</td>\n",
       "      <td>2</td>\n",
       "      <td>male</td>\n",
       "      <td>27.0</td>\n",
       "      <td>0</td>\n",
       "      <td>0</td>\n",
       "      <td>13.0000</td>\n",
       "      <td>S</td>\n",
       "      <td>NaN</td>\n",
       "    </tr>\n",
       "    <tr>\n",
       "      <th>887</th>\n",
       "      <td>1</td>\n",
       "      <td>1</td>\n",
       "      <td>female</td>\n",
       "      <td>19.0</td>\n",
       "      <td>0</td>\n",
       "      <td>0</td>\n",
       "      <td>30.0000</td>\n",
       "      <td>S</td>\n",
       "      <td>B</td>\n",
       "    </tr>\n",
       "    <tr>\n",
       "      <th>888</th>\n",
       "      <td>0</td>\n",
       "      <td>3</td>\n",
       "      <td>female</td>\n",
       "      <td>NaN</td>\n",
       "      <td>1</td>\n",
       "      <td>2</td>\n",
       "      <td>23.4500</td>\n",
       "      <td>S</td>\n",
       "      <td>NaN</td>\n",
       "    </tr>\n",
       "    <tr>\n",
       "      <th>889</th>\n",
       "      <td>1</td>\n",
       "      <td>1</td>\n",
       "      <td>male</td>\n",
       "      <td>26.0</td>\n",
       "      <td>0</td>\n",
       "      <td>0</td>\n",
       "      <td>30.0000</td>\n",
       "      <td>C</td>\n",
       "      <td>C</td>\n",
       "    </tr>\n",
       "    <tr>\n",
       "      <th>890</th>\n",
       "      <td>0</td>\n",
       "      <td>3</td>\n",
       "      <td>male</td>\n",
       "      <td>32.0</td>\n",
       "      <td>0</td>\n",
       "      <td>0</td>\n",
       "      <td>7.7500</td>\n",
       "      <td>Q</td>\n",
       "      <td>NaN</td>\n",
       "    </tr>\n",
       "  </tbody>\n",
       "</table>\n",
       "<p>891 rows × 9 columns</p>\n",
       "</div>"
      ],
      "text/plain": [
       "     survived  pclass     sex   age  sibsp  parch     fare embarked deck\n",
       "0           0       3    male  22.0      1      0   7.2500        S  NaN\n",
       "1           1       1  female  38.0      1      0  71.2833        C    C\n",
       "2           1       3  female  26.0      0      0   7.9250        S  NaN\n",
       "3           1       1  female  35.0      1      0  53.1000        S    C\n",
       "4           0       3    male  35.0      0      0   8.0500        S  NaN\n",
       "..        ...     ...     ...   ...    ...    ...      ...      ...  ...\n",
       "886         0       2    male  27.0      0      0  13.0000        S  NaN\n",
       "887         1       1  female  19.0      0      0  30.0000        S    B\n",
       "888         0       3  female   NaN      1      2  23.4500        S  NaN\n",
       "889         1       1    male  26.0      0      0  30.0000        C    C\n",
       "890         0       3    male  32.0      0      0   7.7500        Q  NaN\n",
       "\n",
       "[891 rows x 9 columns]"
      ]
     },
     "execution_count": 96,
     "metadata": {},
     "output_type": "execute_result"
    }
   ],
   "source": [
    "data_titan"
   ]
  },
  {
   "cell_type": "code",
   "execution_count": 98,
   "id": "4e3a03a3-803e-4d09-9862-9fca273a381a",
   "metadata": {},
   "outputs": [],
   "source": [
    "age = data_titan['age']"
   ]
  },
  {
   "cell_type": "code",
   "execution_count": 99,
   "id": "934567a9-ae7e-49fe-aac2-16bec35df8cc",
   "metadata": {},
   "outputs": [
    {
     "data": {
      "text/plain": [
       "0      22.0\n",
       "1      38.0\n",
       "2      26.0\n",
       "3      35.0\n",
       "4      35.0\n",
       "       ... \n",
       "886    27.0\n",
       "887    19.0\n",
       "888     NaN\n",
       "889    26.0\n",
       "890    32.0\n",
       "Name: age, Length: 891, dtype: float64"
      ]
     },
     "execution_count": 99,
     "metadata": {},
     "output_type": "execute_result"
    }
   ],
   "source": [
    "age"
   ]
  },
  {
   "cell_type": "code",
   "execution_count": 101,
   "id": "8ee7bccf-adcd-4db1-a2a0-dcda874089ce",
   "metadata": {},
   "outputs": [
    {
     "data": {
      "text/plain": [
       "count    714.000000\n",
       "mean      29.699118\n",
       "std       14.526497\n",
       "min        0.420000\n",
       "25%       20.125000\n",
       "50%       28.000000\n",
       "75%       38.000000\n",
       "max       80.000000\n",
       "Name: age, dtype: float64"
      ]
     },
     "execution_count": 101,
     "metadata": {},
     "output_type": "execute_result"
    }
   ],
   "source": [
    "age.describe()"
   ]
  },
  {
   "cell_type": "code",
   "execution_count": 102,
   "id": "35c963a2-ed42-4efe-ba18-7c54c61400c3",
   "metadata": {},
   "outputs": [
    {
     "data": {
      "text/plain": [
       "714"
      ]
     },
     "execution_count": 102,
     "metadata": {},
     "output_type": "execute_result"
    }
   ],
   "source": [
    "age.count()"
   ]
  },
  {
   "cell_type": "code",
   "execution_count": 105,
   "id": "538cac31-495b-4a38-a8c4-6fa4bfdf5061",
   "metadata": {},
   "outputs": [
    {
     "data": {
      "text/plain": [
       "29.69911764705882"
      ]
     },
     "execution_count": 105,
     "metadata": {},
     "output_type": "execute_result"
    }
   ],
   "source": [
    "age.mean()"
   ]
  },
  {
   "cell_type": "code",
   "execution_count": 108,
   "id": "8669e1a4-2873-4d66-a42d-3a2f64788fcd",
   "metadata": {},
   "outputs": [
    {
     "data": {
      "text/plain": [
       "21205.17"
      ]
     },
     "execution_count": 108,
     "metadata": {},
     "output_type": "execute_result"
    }
   ],
   "source": [
    "age.sum() # pandas akan bisa mnyeleksi dan menyingkirkan data NaN"
   ]
  },
  {
   "cell_type": "code",
   "execution_count": 109,
   "id": "e7b2d074-3ff3-443f-a646-2bb94ee51ec9",
   "metadata": {},
   "outputs": [
    {
     "data": {
      "text/plain": [
       "nan"
      ]
     },
     "execution_count": 109,
     "metadata": {},
     "output_type": "execute_result"
    }
   ],
   "source": [
    "sum(age)"
   ]
  },
  {
   "cell_type": "code",
   "execution_count": 111,
   "id": "293c9f3c-e689-45d6-ac48-5e0290bdfd72",
   "metadata": {},
   "outputs": [],
   "source": [
    "age_bersih = age.dropna()"
   ]
  },
  {
   "cell_type": "code",
   "execution_count": 112,
   "id": "02a85c25-907f-4c6b-87b6-efca1fcf884d",
   "metadata": {},
   "outputs": [
    {
     "data": {
      "text/plain": [
       "0      22.0\n",
       "1      38.0\n",
       "2      26.0\n",
       "3      35.0\n",
       "4      35.0\n",
       "       ... \n",
       "885    39.0\n",
       "886    27.0\n",
       "887    19.0\n",
       "889    26.0\n",
       "890    32.0\n",
       "Name: age, Length: 714, dtype: float64"
      ]
     },
     "execution_count": 112,
     "metadata": {},
     "output_type": "execute_result"
    }
   ],
   "source": [
    "age_bersih"
   ]
  },
  {
   "cell_type": "code",
   "execution_count": 133,
   "id": "c8c4f2d3-aff3-4d65-a20b-521229ad1564",
   "metadata": {},
   "outputs": [],
   "source": [
    "dataku22 = dataku_titan"
   ]
  },
  {
   "cell_type": "code",
   "execution_count": 134,
   "id": "4c588e37-8688-4ab1-911e-804cb48c6e48",
   "metadata": {},
   "outputs": [
    {
     "data": {
      "text/html": [
       "<div>\n",
       "<style scoped>\n",
       "    .dataframe tbody tr th:only-of-type {\n",
       "        vertical-align: middle;\n",
       "    }\n",
       "\n",
       "    .dataframe tbody tr th {\n",
       "        vertical-align: top;\n",
       "    }\n",
       "\n",
       "    .dataframe thead th {\n",
       "        text-align: right;\n",
       "    }\n",
       "</style>\n",
       "<table border=\"1\" class=\"dataframe\">\n",
       "  <thead>\n",
       "    <tr style=\"text-align: right;\">\n",
       "      <th></th>\n",
       "      <th>survived</th>\n",
       "      <th>pclass</th>\n",
       "      <th>sex</th>\n",
       "      <th>age</th>\n",
       "      <th>sibsp</th>\n",
       "      <th>parch</th>\n",
       "      <th>fare</th>\n",
       "      <th>embarked</th>\n",
       "      <th>deck</th>\n",
       "    </tr>\n",
       "  </thead>\n",
       "  <tbody>\n",
       "    <tr>\n",
       "      <th>0</th>\n",
       "      <td>0</td>\n",
       "      <td>3</td>\n",
       "      <td>male</td>\n",
       "      <td>22.0</td>\n",
       "      <td>1</td>\n",
       "      <td>0</td>\n",
       "      <td>7.2500</td>\n",
       "      <td>S</td>\n",
       "      <td>NaN</td>\n",
       "    </tr>\n",
       "    <tr>\n",
       "      <th>1</th>\n",
       "      <td>1</td>\n",
       "      <td>1</td>\n",
       "      <td>female</td>\n",
       "      <td>38.0</td>\n",
       "      <td>1</td>\n",
       "      <td>0</td>\n",
       "      <td>71.2833</td>\n",
       "      <td>C</td>\n",
       "      <td>C</td>\n",
       "    </tr>\n",
       "    <tr>\n",
       "      <th>2</th>\n",
       "      <td>1</td>\n",
       "      <td>3</td>\n",
       "      <td>female</td>\n",
       "      <td>26.0</td>\n",
       "      <td>0</td>\n",
       "      <td>0</td>\n",
       "      <td>7.9250</td>\n",
       "      <td>S</td>\n",
       "      <td>NaN</td>\n",
       "    </tr>\n",
       "    <tr>\n",
       "      <th>3</th>\n",
       "      <td>1</td>\n",
       "      <td>1</td>\n",
       "      <td>female</td>\n",
       "      <td>35.0</td>\n",
       "      <td>1</td>\n",
       "      <td>0</td>\n",
       "      <td>53.1000</td>\n",
       "      <td>S</td>\n",
       "      <td>C</td>\n",
       "    </tr>\n",
       "    <tr>\n",
       "      <th>4</th>\n",
       "      <td>0</td>\n",
       "      <td>3</td>\n",
       "      <td>male</td>\n",
       "      <td>35.0</td>\n",
       "      <td>0</td>\n",
       "      <td>0</td>\n",
       "      <td>8.0500</td>\n",
       "      <td>S</td>\n",
       "      <td>NaN</td>\n",
       "    </tr>\n",
       "    <tr>\n",
       "      <th>...</th>\n",
       "      <td>...</td>\n",
       "      <td>...</td>\n",
       "      <td>...</td>\n",
       "      <td>...</td>\n",
       "      <td>...</td>\n",
       "      <td>...</td>\n",
       "      <td>...</td>\n",
       "      <td>...</td>\n",
       "      <td>...</td>\n",
       "    </tr>\n",
       "    <tr>\n",
       "      <th>886</th>\n",
       "      <td>0</td>\n",
       "      <td>2</td>\n",
       "      <td>male</td>\n",
       "      <td>27.0</td>\n",
       "      <td>0</td>\n",
       "      <td>0</td>\n",
       "      <td>13.0000</td>\n",
       "      <td>S</td>\n",
       "      <td>NaN</td>\n",
       "    </tr>\n",
       "    <tr>\n",
       "      <th>887</th>\n",
       "      <td>1</td>\n",
       "      <td>1</td>\n",
       "      <td>female</td>\n",
       "      <td>19.0</td>\n",
       "      <td>0</td>\n",
       "      <td>0</td>\n",
       "      <td>30.0000</td>\n",
       "      <td>S</td>\n",
       "      <td>B</td>\n",
       "    </tr>\n",
       "    <tr>\n",
       "      <th>888</th>\n",
       "      <td>0</td>\n",
       "      <td>3</td>\n",
       "      <td>female</td>\n",
       "      <td>NaN</td>\n",
       "      <td>1</td>\n",
       "      <td>2</td>\n",
       "      <td>23.4500</td>\n",
       "      <td>S</td>\n",
       "      <td>NaN</td>\n",
       "    </tr>\n",
       "    <tr>\n",
       "      <th>889</th>\n",
       "      <td>1</td>\n",
       "      <td>1</td>\n",
       "      <td>male</td>\n",
       "      <td>26.0</td>\n",
       "      <td>0</td>\n",
       "      <td>0</td>\n",
       "      <td>30.0000</td>\n",
       "      <td>C</td>\n",
       "      <td>C</td>\n",
       "    </tr>\n",
       "    <tr>\n",
       "      <th>890</th>\n",
       "      <td>0</td>\n",
       "      <td>3</td>\n",
       "      <td>male</td>\n",
       "      <td>32.0</td>\n",
       "      <td>0</td>\n",
       "      <td>0</td>\n",
       "      <td>7.7500</td>\n",
       "      <td>Q</td>\n",
       "      <td>NaN</td>\n",
       "    </tr>\n",
       "  </tbody>\n",
       "</table>\n",
       "<p>891 rows × 9 columns</p>\n",
       "</div>"
      ],
      "text/plain": [
       "     survived  pclass     sex   age  sibsp  parch     fare embarked deck\n",
       "0           0       3    male  22.0      1      0   7.2500        S  NaN\n",
       "1           1       1  female  38.0      1      0  71.2833        C    C\n",
       "2           1       3  female  26.0      0      0   7.9250        S  NaN\n",
       "3           1       1  female  35.0      1      0  53.1000        S    C\n",
       "4           0       3    male  35.0      0      0   8.0500        S  NaN\n",
       "..        ...     ...     ...   ...    ...    ...      ...      ...  ...\n",
       "886         0       2    male  27.0      0      0  13.0000        S  NaN\n",
       "887         1       1  female  19.0      0      0  30.0000        S    B\n",
       "888         0       3  female   NaN      1      2  23.4500        S  NaN\n",
       "889         1       1    male  26.0      0      0  30.0000        C    C\n",
       "890         0       3    male  32.0      0      0   7.7500        Q  NaN\n",
       "\n",
       "[891 rows x 9 columns]"
      ]
     },
     "execution_count": 134,
     "metadata": {},
     "output_type": "execute_result"
    }
   ],
   "source": [
    "dataku22"
   ]
  },
  {
   "cell_type": "code",
   "execution_count": 117,
   "id": "09d849f8-3003-42b2-af05-430c1953ff1a",
   "metadata": {},
   "outputs": [
    {
     "data": {
      "text/html": [
       "<div>\n",
       "<style scoped>\n",
       "    .dataframe tbody tr th:only-of-type {\n",
       "        vertical-align: middle;\n",
       "    }\n",
       "\n",
       "    .dataframe tbody tr th {\n",
       "        vertical-align: top;\n",
       "    }\n",
       "\n",
       "    .dataframe thead th {\n",
       "        text-align: right;\n",
       "    }\n",
       "</style>\n",
       "<table border=\"1\" class=\"dataframe\">\n",
       "  <thead>\n",
       "    <tr style=\"text-align: right;\">\n",
       "      <th></th>\n",
       "      <th>survived</th>\n",
       "      <th>pclass</th>\n",
       "      <th>sex</th>\n",
       "      <th>sibsp</th>\n",
       "      <th>parch</th>\n",
       "      <th>fare</th>\n",
       "    </tr>\n",
       "  </thead>\n",
       "  <tbody>\n",
       "    <tr>\n",
       "      <th>0</th>\n",
       "      <td>0</td>\n",
       "      <td>3</td>\n",
       "      <td>male</td>\n",
       "      <td>1</td>\n",
       "      <td>0</td>\n",
       "      <td>7.2500</td>\n",
       "    </tr>\n",
       "    <tr>\n",
       "      <th>1</th>\n",
       "      <td>1</td>\n",
       "      <td>1</td>\n",
       "      <td>female</td>\n",
       "      <td>1</td>\n",
       "      <td>0</td>\n",
       "      <td>71.2833</td>\n",
       "    </tr>\n",
       "    <tr>\n",
       "      <th>2</th>\n",
       "      <td>1</td>\n",
       "      <td>3</td>\n",
       "      <td>female</td>\n",
       "      <td>0</td>\n",
       "      <td>0</td>\n",
       "      <td>7.9250</td>\n",
       "    </tr>\n",
       "    <tr>\n",
       "      <th>3</th>\n",
       "      <td>1</td>\n",
       "      <td>1</td>\n",
       "      <td>female</td>\n",
       "      <td>1</td>\n",
       "      <td>0</td>\n",
       "      <td>53.1000</td>\n",
       "    </tr>\n",
       "    <tr>\n",
       "      <th>4</th>\n",
       "      <td>0</td>\n",
       "      <td>3</td>\n",
       "      <td>male</td>\n",
       "      <td>0</td>\n",
       "      <td>0</td>\n",
       "      <td>8.0500</td>\n",
       "    </tr>\n",
       "    <tr>\n",
       "      <th>...</th>\n",
       "      <td>...</td>\n",
       "      <td>...</td>\n",
       "      <td>...</td>\n",
       "      <td>...</td>\n",
       "      <td>...</td>\n",
       "      <td>...</td>\n",
       "    </tr>\n",
       "    <tr>\n",
       "      <th>886</th>\n",
       "      <td>0</td>\n",
       "      <td>2</td>\n",
       "      <td>male</td>\n",
       "      <td>0</td>\n",
       "      <td>0</td>\n",
       "      <td>13.0000</td>\n",
       "    </tr>\n",
       "    <tr>\n",
       "      <th>887</th>\n",
       "      <td>1</td>\n",
       "      <td>1</td>\n",
       "      <td>female</td>\n",
       "      <td>0</td>\n",
       "      <td>0</td>\n",
       "      <td>30.0000</td>\n",
       "    </tr>\n",
       "    <tr>\n",
       "      <th>888</th>\n",
       "      <td>0</td>\n",
       "      <td>3</td>\n",
       "      <td>female</td>\n",
       "      <td>1</td>\n",
       "      <td>2</td>\n",
       "      <td>23.4500</td>\n",
       "    </tr>\n",
       "    <tr>\n",
       "      <th>889</th>\n",
       "      <td>1</td>\n",
       "      <td>1</td>\n",
       "      <td>male</td>\n",
       "      <td>0</td>\n",
       "      <td>0</td>\n",
       "      <td>30.0000</td>\n",
       "    </tr>\n",
       "    <tr>\n",
       "      <th>890</th>\n",
       "      <td>0</td>\n",
       "      <td>3</td>\n",
       "      <td>male</td>\n",
       "      <td>0</td>\n",
       "      <td>0</td>\n",
       "      <td>7.7500</td>\n",
       "    </tr>\n",
       "  </tbody>\n",
       "</table>\n",
       "<p>891 rows × 6 columns</p>\n",
       "</div>"
      ],
      "text/plain": [
       "     survived  pclass     sex  sibsp  parch     fare\n",
       "0           0       3    male      1      0   7.2500\n",
       "1           1       1  female      1      0  71.2833\n",
       "2           1       3  female      0      0   7.9250\n",
       "3           1       1  female      1      0  53.1000\n",
       "4           0       3    male      0      0   8.0500\n",
       "..        ...     ...     ...    ...    ...      ...\n",
       "886         0       2    male      0      0  13.0000\n",
       "887         1       1  female      0      0  30.0000\n",
       "888         0       3  female      1      2  23.4500\n",
       "889         1       1    male      0      0  30.0000\n",
       "890         0       3    male      0      0   7.7500\n",
       "\n",
       "[891 rows x 6 columns]"
      ]
     },
     "execution_count": 117,
     "metadata": {},
     "output_type": "execute_result"
    }
   ],
   "source": [
    "dataku_titan.dropna(axis=1) #kolom yang NaN akan hilang"
   ]
  },
  {
   "cell_type": "code",
   "execution_count": 130,
   "id": "e7a201da-9eca-4192-8069-a135b30284e6",
   "metadata": {},
   "outputs": [
    {
     "data": {
      "text/html": [
       "<div>\n",
       "<style scoped>\n",
       "    .dataframe tbody tr th:only-of-type {\n",
       "        vertical-align: middle;\n",
       "    }\n",
       "\n",
       "    .dataframe tbody tr th {\n",
       "        vertical-align: top;\n",
       "    }\n",
       "\n",
       "    .dataframe thead th {\n",
       "        text-align: right;\n",
       "    }\n",
       "</style>\n",
       "<table border=\"1\" class=\"dataframe\">\n",
       "  <thead>\n",
       "    <tr style=\"text-align: right;\">\n",
       "      <th></th>\n",
       "      <th>survived</th>\n",
       "      <th>pclass</th>\n",
       "      <th>sex</th>\n",
       "      <th>age</th>\n",
       "      <th>sibsp</th>\n",
       "      <th>parch</th>\n",
       "      <th>fare</th>\n",
       "      <th>embarked</th>\n",
       "      <th>deck</th>\n",
       "    </tr>\n",
       "  </thead>\n",
       "  <tbody>\n",
       "    <tr>\n",
       "      <th>0</th>\n",
       "      <td>0</td>\n",
       "      <td>3</td>\n",
       "      <td>male</td>\n",
       "      <td>22.0</td>\n",
       "      <td>1</td>\n",
       "      <td>0</td>\n",
       "      <td>7.2500</td>\n",
       "      <td>S</td>\n",
       "      <td>NaN</td>\n",
       "    </tr>\n",
       "    <tr>\n",
       "      <th>1</th>\n",
       "      <td>1</td>\n",
       "      <td>1</td>\n",
       "      <td>female</td>\n",
       "      <td>38.0</td>\n",
       "      <td>1</td>\n",
       "      <td>0</td>\n",
       "      <td>71.2833</td>\n",
       "      <td>C</td>\n",
       "      <td>C</td>\n",
       "    </tr>\n",
       "    <tr>\n",
       "      <th>2</th>\n",
       "      <td>1</td>\n",
       "      <td>3</td>\n",
       "      <td>female</td>\n",
       "      <td>26.0</td>\n",
       "      <td>0</td>\n",
       "      <td>0</td>\n",
       "      <td>7.9250</td>\n",
       "      <td>S</td>\n",
       "      <td>NaN</td>\n",
       "    </tr>\n",
       "    <tr>\n",
       "      <th>3</th>\n",
       "      <td>1</td>\n",
       "      <td>1</td>\n",
       "      <td>female</td>\n",
       "      <td>35.0</td>\n",
       "      <td>1</td>\n",
       "      <td>0</td>\n",
       "      <td>53.1000</td>\n",
       "      <td>S</td>\n",
       "      <td>C</td>\n",
       "    </tr>\n",
       "    <tr>\n",
       "      <th>4</th>\n",
       "      <td>0</td>\n",
       "      <td>3</td>\n",
       "      <td>male</td>\n",
       "      <td>35.0</td>\n",
       "      <td>0</td>\n",
       "      <td>0</td>\n",
       "      <td>8.0500</td>\n",
       "      <td>S</td>\n",
       "      <td>NaN</td>\n",
       "    </tr>\n",
       "    <tr>\n",
       "      <th>...</th>\n",
       "      <td>...</td>\n",
       "      <td>...</td>\n",
       "      <td>...</td>\n",
       "      <td>...</td>\n",
       "      <td>...</td>\n",
       "      <td>...</td>\n",
       "      <td>...</td>\n",
       "      <td>...</td>\n",
       "      <td>...</td>\n",
       "    </tr>\n",
       "    <tr>\n",
       "      <th>886</th>\n",
       "      <td>0</td>\n",
       "      <td>2</td>\n",
       "      <td>male</td>\n",
       "      <td>27.0</td>\n",
       "      <td>0</td>\n",
       "      <td>0</td>\n",
       "      <td>13.0000</td>\n",
       "      <td>S</td>\n",
       "      <td>NaN</td>\n",
       "    </tr>\n",
       "    <tr>\n",
       "      <th>887</th>\n",
       "      <td>1</td>\n",
       "      <td>1</td>\n",
       "      <td>female</td>\n",
       "      <td>19.0</td>\n",
       "      <td>0</td>\n",
       "      <td>0</td>\n",
       "      <td>30.0000</td>\n",
       "      <td>S</td>\n",
       "      <td>B</td>\n",
       "    </tr>\n",
       "    <tr>\n",
       "      <th>888</th>\n",
       "      <td>0</td>\n",
       "      <td>3</td>\n",
       "      <td>female</td>\n",
       "      <td>NaN</td>\n",
       "      <td>1</td>\n",
       "      <td>2</td>\n",
       "      <td>23.4500</td>\n",
       "      <td>S</td>\n",
       "      <td>NaN</td>\n",
       "    </tr>\n",
       "    <tr>\n",
       "      <th>889</th>\n",
       "      <td>1</td>\n",
       "      <td>1</td>\n",
       "      <td>male</td>\n",
       "      <td>26.0</td>\n",
       "      <td>0</td>\n",
       "      <td>0</td>\n",
       "      <td>30.0000</td>\n",
       "      <td>C</td>\n",
       "      <td>C</td>\n",
       "    </tr>\n",
       "    <tr>\n",
       "      <th>890</th>\n",
       "      <td>0</td>\n",
       "      <td>3</td>\n",
       "      <td>male</td>\n",
       "      <td>32.0</td>\n",
       "      <td>0</td>\n",
       "      <td>0</td>\n",
       "      <td>7.7500</td>\n",
       "      <td>Q</td>\n",
       "      <td>NaN</td>\n",
       "    </tr>\n",
       "  </tbody>\n",
       "</table>\n",
       "<p>891 rows × 9 columns</p>\n",
       "</div>"
      ],
      "text/plain": [
       "     survived  pclass     sex   age  sibsp  parch     fare embarked deck\n",
       "0           0       3    male  22.0      1      0   7.2500        S  NaN\n",
       "1           1       1  female  38.0      1      0  71.2833        C    C\n",
       "2           1       3  female  26.0      0      0   7.9250        S  NaN\n",
       "3           1       1  female  35.0      1      0  53.1000        S    C\n",
       "4           0       3    male  35.0      0      0   8.0500        S  NaN\n",
       "..        ...     ...     ...   ...    ...    ...      ...      ...  ...\n",
       "886         0       2    male  27.0      0      0  13.0000        S  NaN\n",
       "887         1       1  female  19.0      0      0  30.0000        S    B\n",
       "888         0       3  female   NaN      1      2  23.4500        S  NaN\n",
       "889         1       1    male  26.0      0      0  30.0000        C    C\n",
       "890         0       3    male  32.0      0      0   7.7500        Q  NaN\n",
       "\n",
       "[891 rows x 9 columns]"
      ]
     },
     "execution_count": 130,
     "metadata": {},
     "output_type": "execute_result"
    }
   ],
   "source": [
    "dataku_titan.dropna(thresh=7) #jangan pernah menghilangkan hanya karena 1 baris NaN"
   ]
  },
  {
   "cell_type": "markdown",
   "id": "05439f1e-b365-4352-8094-c1fd89867369",
   "metadata": {},
   "source": [
    "Beberapa baris kosong paling aman adalah diisi nilai rata rata/mean "
   ]
  },
  {
   "cell_type": "code",
   "execution_count": 135,
   "id": "dbe71584-f3e4-4c4c-9948-1c3c62fa8d67",
   "metadata": {},
   "outputs": [
    {
     "data": {
      "text/html": [
       "<div>\n",
       "<style scoped>\n",
       "    .dataframe tbody tr th:only-of-type {\n",
       "        vertical-align: middle;\n",
       "    }\n",
       "\n",
       "    .dataframe tbody tr th {\n",
       "        vertical-align: top;\n",
       "    }\n",
       "\n",
       "    .dataframe thead th {\n",
       "        text-align: right;\n",
       "    }\n",
       "</style>\n",
       "<table border=\"1\" class=\"dataframe\">\n",
       "  <thead>\n",
       "    <tr style=\"text-align: right;\">\n",
       "      <th></th>\n",
       "      <th>survived</th>\n",
       "      <th>pclass</th>\n",
       "      <th>sex</th>\n",
       "      <th>age</th>\n",
       "      <th>sibsp</th>\n",
       "      <th>parch</th>\n",
       "      <th>fare</th>\n",
       "      <th>embarked</th>\n",
       "      <th>deck</th>\n",
       "    </tr>\n",
       "  </thead>\n",
       "  <tbody>\n",
       "    <tr>\n",
       "      <th>0</th>\n",
       "      <td>0</td>\n",
       "      <td>3</td>\n",
       "      <td>male</td>\n",
       "      <td>22.0</td>\n",
       "      <td>1</td>\n",
       "      <td>0</td>\n",
       "      <td>7.2500</td>\n",
       "      <td>S</td>\n",
       "      <td>NaN</td>\n",
       "    </tr>\n",
       "    <tr>\n",
       "      <th>1</th>\n",
       "      <td>1</td>\n",
       "      <td>1</td>\n",
       "      <td>female</td>\n",
       "      <td>38.0</td>\n",
       "      <td>1</td>\n",
       "      <td>0</td>\n",
       "      <td>71.2833</td>\n",
       "      <td>C</td>\n",
       "      <td>C</td>\n",
       "    </tr>\n",
       "    <tr>\n",
       "      <th>2</th>\n",
       "      <td>1</td>\n",
       "      <td>3</td>\n",
       "      <td>female</td>\n",
       "      <td>26.0</td>\n",
       "      <td>0</td>\n",
       "      <td>0</td>\n",
       "      <td>7.9250</td>\n",
       "      <td>S</td>\n",
       "      <td>NaN</td>\n",
       "    </tr>\n",
       "    <tr>\n",
       "      <th>3</th>\n",
       "      <td>1</td>\n",
       "      <td>1</td>\n",
       "      <td>female</td>\n",
       "      <td>35.0</td>\n",
       "      <td>1</td>\n",
       "      <td>0</td>\n",
       "      <td>53.1000</td>\n",
       "      <td>S</td>\n",
       "      <td>C</td>\n",
       "    </tr>\n",
       "    <tr>\n",
       "      <th>4</th>\n",
       "      <td>0</td>\n",
       "      <td>3</td>\n",
       "      <td>male</td>\n",
       "      <td>35.0</td>\n",
       "      <td>0</td>\n",
       "      <td>0</td>\n",
       "      <td>8.0500</td>\n",
       "      <td>S</td>\n",
       "      <td>NaN</td>\n",
       "    </tr>\n",
       "    <tr>\n",
       "      <th>...</th>\n",
       "      <td>...</td>\n",
       "      <td>...</td>\n",
       "      <td>...</td>\n",
       "      <td>...</td>\n",
       "      <td>...</td>\n",
       "      <td>...</td>\n",
       "      <td>...</td>\n",
       "      <td>...</td>\n",
       "      <td>...</td>\n",
       "    </tr>\n",
       "    <tr>\n",
       "      <th>886</th>\n",
       "      <td>0</td>\n",
       "      <td>2</td>\n",
       "      <td>male</td>\n",
       "      <td>27.0</td>\n",
       "      <td>0</td>\n",
       "      <td>0</td>\n",
       "      <td>13.0000</td>\n",
       "      <td>S</td>\n",
       "      <td>NaN</td>\n",
       "    </tr>\n",
       "    <tr>\n",
       "      <th>887</th>\n",
       "      <td>1</td>\n",
       "      <td>1</td>\n",
       "      <td>female</td>\n",
       "      <td>19.0</td>\n",
       "      <td>0</td>\n",
       "      <td>0</td>\n",
       "      <td>30.0000</td>\n",
       "      <td>S</td>\n",
       "      <td>B</td>\n",
       "    </tr>\n",
       "    <tr>\n",
       "      <th>888</th>\n",
       "      <td>0</td>\n",
       "      <td>3</td>\n",
       "      <td>female</td>\n",
       "      <td>NaN</td>\n",
       "      <td>1</td>\n",
       "      <td>2</td>\n",
       "      <td>23.4500</td>\n",
       "      <td>S</td>\n",
       "      <td>NaN</td>\n",
       "    </tr>\n",
       "    <tr>\n",
       "      <th>889</th>\n",
       "      <td>1</td>\n",
       "      <td>1</td>\n",
       "      <td>male</td>\n",
       "      <td>26.0</td>\n",
       "      <td>0</td>\n",
       "      <td>0</td>\n",
       "      <td>30.0000</td>\n",
       "      <td>C</td>\n",
       "      <td>C</td>\n",
       "    </tr>\n",
       "    <tr>\n",
       "      <th>890</th>\n",
       "      <td>0</td>\n",
       "      <td>3</td>\n",
       "      <td>male</td>\n",
       "      <td>32.0</td>\n",
       "      <td>0</td>\n",
       "      <td>0</td>\n",
       "      <td>7.7500</td>\n",
       "      <td>Q</td>\n",
       "      <td>NaN</td>\n",
       "    </tr>\n",
       "  </tbody>\n",
       "</table>\n",
       "<p>891 rows × 9 columns</p>\n",
       "</div>"
      ],
      "text/plain": [
       "     survived  pclass     sex   age  sibsp  parch     fare embarked deck\n",
       "0           0       3    male  22.0      1      0   7.2500        S  NaN\n",
       "1           1       1  female  38.0      1      0  71.2833        C    C\n",
       "2           1       3  female  26.0      0      0   7.9250        S  NaN\n",
       "3           1       1  female  35.0      1      0  53.1000        S    C\n",
       "4           0       3    male  35.0      0      0   8.0500        S  NaN\n",
       "..        ...     ...     ...   ...    ...    ...      ...      ...  ...\n",
       "886         0       2    male  27.0      0      0  13.0000        S  NaN\n",
       "887         1       1  female  19.0      0      0  30.0000        S    B\n",
       "888         0       3  female   NaN      1      2  23.4500        S  NaN\n",
       "889         1       1    male  26.0      0      0  30.0000        C    C\n",
       "890         0       3    male  32.0      0      0   7.7500        Q  NaN\n",
       "\n",
       "[891 rows x 9 columns]"
      ]
     },
     "execution_count": 135,
     "metadata": {},
     "output_type": "execute_result"
    }
   ],
   "source": [
    "dataku22"
   ]
  },
  {
   "cell_type": "code",
   "execution_count": 139,
   "id": "3cb14406-0e8a-44c2-a385-1a178036d6e8",
   "metadata": {},
   "outputs": [],
   "source": [
    "dataku22.age = dataku22.age.fillna(value=dataku22.age.mean())"
   ]
  },
  {
   "cell_type": "code",
   "execution_count": 140,
   "id": "e9158e42-ebbe-406a-828a-fff1ef1925e7",
   "metadata": {},
   "outputs": [
    {
     "data": {
      "text/html": [
       "<div>\n",
       "<style scoped>\n",
       "    .dataframe tbody tr th:only-of-type {\n",
       "        vertical-align: middle;\n",
       "    }\n",
       "\n",
       "    .dataframe tbody tr th {\n",
       "        vertical-align: top;\n",
       "    }\n",
       "\n",
       "    .dataframe thead th {\n",
       "        text-align: right;\n",
       "    }\n",
       "</style>\n",
       "<table border=\"1\" class=\"dataframe\">\n",
       "  <thead>\n",
       "    <tr style=\"text-align: right;\">\n",
       "      <th></th>\n",
       "      <th>survived</th>\n",
       "      <th>pclass</th>\n",
       "      <th>sex</th>\n",
       "      <th>age</th>\n",
       "      <th>sibsp</th>\n",
       "      <th>parch</th>\n",
       "      <th>fare</th>\n",
       "      <th>embarked</th>\n",
       "      <th>deck</th>\n",
       "    </tr>\n",
       "  </thead>\n",
       "  <tbody>\n",
       "    <tr>\n",
       "      <th>0</th>\n",
       "      <td>0</td>\n",
       "      <td>3</td>\n",
       "      <td>male</td>\n",
       "      <td>22.000000</td>\n",
       "      <td>1</td>\n",
       "      <td>0</td>\n",
       "      <td>7.2500</td>\n",
       "      <td>S</td>\n",
       "      <td>NaN</td>\n",
       "    </tr>\n",
       "    <tr>\n",
       "      <th>1</th>\n",
       "      <td>1</td>\n",
       "      <td>1</td>\n",
       "      <td>female</td>\n",
       "      <td>38.000000</td>\n",
       "      <td>1</td>\n",
       "      <td>0</td>\n",
       "      <td>71.2833</td>\n",
       "      <td>C</td>\n",
       "      <td>C</td>\n",
       "    </tr>\n",
       "    <tr>\n",
       "      <th>2</th>\n",
       "      <td>1</td>\n",
       "      <td>3</td>\n",
       "      <td>female</td>\n",
       "      <td>26.000000</td>\n",
       "      <td>0</td>\n",
       "      <td>0</td>\n",
       "      <td>7.9250</td>\n",
       "      <td>S</td>\n",
       "      <td>NaN</td>\n",
       "    </tr>\n",
       "    <tr>\n",
       "      <th>3</th>\n",
       "      <td>1</td>\n",
       "      <td>1</td>\n",
       "      <td>female</td>\n",
       "      <td>35.000000</td>\n",
       "      <td>1</td>\n",
       "      <td>0</td>\n",
       "      <td>53.1000</td>\n",
       "      <td>S</td>\n",
       "      <td>C</td>\n",
       "    </tr>\n",
       "    <tr>\n",
       "      <th>4</th>\n",
       "      <td>0</td>\n",
       "      <td>3</td>\n",
       "      <td>male</td>\n",
       "      <td>35.000000</td>\n",
       "      <td>0</td>\n",
       "      <td>0</td>\n",
       "      <td>8.0500</td>\n",
       "      <td>S</td>\n",
       "      <td>NaN</td>\n",
       "    </tr>\n",
       "    <tr>\n",
       "      <th>...</th>\n",
       "      <td>...</td>\n",
       "      <td>...</td>\n",
       "      <td>...</td>\n",
       "      <td>...</td>\n",
       "      <td>...</td>\n",
       "      <td>...</td>\n",
       "      <td>...</td>\n",
       "      <td>...</td>\n",
       "      <td>...</td>\n",
       "    </tr>\n",
       "    <tr>\n",
       "      <th>886</th>\n",
       "      <td>0</td>\n",
       "      <td>2</td>\n",
       "      <td>male</td>\n",
       "      <td>27.000000</td>\n",
       "      <td>0</td>\n",
       "      <td>0</td>\n",
       "      <td>13.0000</td>\n",
       "      <td>S</td>\n",
       "      <td>NaN</td>\n",
       "    </tr>\n",
       "    <tr>\n",
       "      <th>887</th>\n",
       "      <td>1</td>\n",
       "      <td>1</td>\n",
       "      <td>female</td>\n",
       "      <td>19.000000</td>\n",
       "      <td>0</td>\n",
       "      <td>0</td>\n",
       "      <td>30.0000</td>\n",
       "      <td>S</td>\n",
       "      <td>B</td>\n",
       "    </tr>\n",
       "    <tr>\n",
       "      <th>888</th>\n",
       "      <td>0</td>\n",
       "      <td>3</td>\n",
       "      <td>female</td>\n",
       "      <td>29.699118</td>\n",
       "      <td>1</td>\n",
       "      <td>2</td>\n",
       "      <td>23.4500</td>\n",
       "      <td>S</td>\n",
       "      <td>NaN</td>\n",
       "    </tr>\n",
       "    <tr>\n",
       "      <th>889</th>\n",
       "      <td>1</td>\n",
       "      <td>1</td>\n",
       "      <td>male</td>\n",
       "      <td>26.000000</td>\n",
       "      <td>0</td>\n",
       "      <td>0</td>\n",
       "      <td>30.0000</td>\n",
       "      <td>C</td>\n",
       "      <td>C</td>\n",
       "    </tr>\n",
       "    <tr>\n",
       "      <th>890</th>\n",
       "      <td>0</td>\n",
       "      <td>3</td>\n",
       "      <td>male</td>\n",
       "      <td>32.000000</td>\n",
       "      <td>0</td>\n",
       "      <td>0</td>\n",
       "      <td>7.7500</td>\n",
       "      <td>Q</td>\n",
       "      <td>NaN</td>\n",
       "    </tr>\n",
       "  </tbody>\n",
       "</table>\n",
       "<p>891 rows × 9 columns</p>\n",
       "</div>"
      ],
      "text/plain": [
       "     survived  pclass     sex        age  sibsp  parch     fare embarked deck\n",
       "0           0       3    male  22.000000      1      0   7.2500        S  NaN\n",
       "1           1       1  female  38.000000      1      0  71.2833        C    C\n",
       "2           1       3  female  26.000000      0      0   7.9250        S  NaN\n",
       "3           1       1  female  35.000000      1      0  53.1000        S    C\n",
       "4           0       3    male  35.000000      0      0   8.0500        S  NaN\n",
       "..        ...     ...     ...        ...    ...    ...      ...      ...  ...\n",
       "886         0       2    male  27.000000      0      0  13.0000        S  NaN\n",
       "887         1       1  female  19.000000      0      0  30.0000        S    B\n",
       "888         0       3  female  29.699118      1      2  23.4500        S  NaN\n",
       "889         1       1    male  26.000000      0      0  30.0000        C    C\n",
       "890         0       3    male  32.000000      0      0   7.7500        Q  NaN\n",
       "\n",
       "[891 rows x 9 columns]"
      ]
     },
     "execution_count": 140,
     "metadata": {},
     "output_type": "execute_result"
    }
   ],
   "source": [
    "dataku22"
   ]
  },
  {
   "cell_type": "code",
   "execution_count": 142,
   "id": "384afd0c-e9a0-46f8-9fb0-5c6baaacd7ba",
   "metadata": {},
   "outputs": [
    {
     "data": {
      "text/plain": [
       "pandas.core.series.Series"
      ]
     },
     "execution_count": 142,
     "metadata": {},
     "output_type": "execute_result"
    }
   ],
   "source": [
    "type(dataku22.age)"
   ]
  },
  {
   "cell_type": "markdown",
   "id": "0d9be28e-341e-4f61-b582-32a18c4a2415",
   "metadata": {},
   "source": [
    "#### cara merubah pandas series menjadi array"
   ]
  },
  {
   "cell_type": "code",
   "execution_count": 143,
   "id": "11653938-2b12-4683-babc-155570e5b875",
   "metadata": {},
   "outputs": [
    {
     "data": {
      "text/plain": [
       "array([22.        , 38.        , 26.        , 35.        , 35.        ,\n",
       "       29.69911765, 54.        ,  2.        , 27.        , 14.        ,\n",
       "        4.        , 58.        , 20.        , 39.        , 14.        ,\n",
       "       55.        ,  2.        , 29.69911765, 31.        , 29.69911765,\n",
       "       35.        , 34.        , 15.        , 28.        ,  8.        ,\n",
       "       38.        , 29.69911765, 19.        , 29.69911765, 29.69911765,\n",
       "       40.        , 29.69911765, 29.69911765, 66.        , 28.        ,\n",
       "       42.        , 29.69911765, 21.        , 18.        , 14.        ,\n",
       "       40.        , 27.        , 29.69911765,  3.        , 19.        ,\n",
       "       29.69911765, 29.69911765, 29.69911765, 29.69911765, 18.        ,\n",
       "        7.        , 21.        , 49.        , 29.        , 65.        ,\n",
       "       29.69911765, 21.        , 28.5       ,  5.        , 11.        ,\n",
       "       22.        , 38.        , 45.        ,  4.        , 29.69911765,\n",
       "       29.69911765, 29.        , 19.        , 17.        , 26.        ,\n",
       "       32.        , 16.        , 21.        , 26.        , 32.        ,\n",
       "       25.        , 29.69911765, 29.69911765,  0.83      , 30.        ,\n",
       "       22.        , 29.        , 29.69911765, 28.        , 17.        ,\n",
       "       33.        , 16.        , 29.69911765, 23.        , 24.        ,\n",
       "       29.        , 20.        , 46.        , 26.        , 59.        ,\n",
       "       29.69911765, 71.        , 23.        , 34.        , 34.        ,\n",
       "       28.        , 29.69911765, 21.        , 33.        , 37.        ,\n",
       "       28.        , 21.        , 29.69911765, 38.        , 29.69911765,\n",
       "       47.        , 14.5       , 22.        , 20.        , 17.        ,\n",
       "       21.        , 70.5       , 29.        , 24.        ,  2.        ,\n",
       "       21.        , 29.69911765, 32.5       , 32.5       , 54.        ,\n",
       "       12.        , 29.69911765, 24.        , 29.69911765, 45.        ,\n",
       "       33.        , 20.        , 47.        , 29.        , 25.        ,\n",
       "       23.        , 19.        , 37.        , 16.        , 24.        ,\n",
       "       29.69911765, 22.        , 24.        , 19.        , 18.        ,\n",
       "       19.        , 27.        ,  9.        , 36.5       , 42.        ,\n",
       "       51.        , 22.        , 55.5       , 40.5       , 29.69911765,\n",
       "       51.        , 16.        , 30.        , 29.69911765, 29.69911765,\n",
       "       44.        , 40.        , 26.        , 17.        ,  1.        ,\n",
       "        9.        , 29.69911765, 45.        , 29.69911765, 28.        ,\n",
       "       61.        ,  4.        ,  1.        , 21.        , 56.        ,\n",
       "       18.        , 29.69911765, 50.        , 30.        , 36.        ,\n",
       "       29.69911765, 29.69911765,  9.        ,  1.        ,  4.        ,\n",
       "       29.69911765, 29.69911765, 45.        , 40.        , 36.        ,\n",
       "       32.        , 19.        , 19.        ,  3.        , 44.        ,\n",
       "       58.        , 29.69911765, 42.        , 29.69911765, 24.        ,\n",
       "       28.        , 29.69911765, 34.        , 45.5       , 18.        ,\n",
       "        2.        , 32.        , 26.        , 16.        , 40.        ,\n",
       "       24.        , 35.        , 22.        , 30.        , 29.69911765,\n",
       "       31.        , 27.        , 42.        , 32.        , 30.        ,\n",
       "       16.        , 27.        , 51.        , 29.69911765, 38.        ,\n",
       "       22.        , 19.        , 20.5       , 18.        , 29.69911765,\n",
       "       35.        , 29.        , 59.        ,  5.        , 24.        ,\n",
       "       29.69911765, 44.        ,  8.        , 19.        , 33.        ,\n",
       "       29.69911765, 29.69911765, 29.        , 22.        , 30.        ,\n",
       "       44.        , 25.        , 24.        , 37.        , 54.        ,\n",
       "       29.69911765, 29.        , 62.        , 30.        , 41.        ,\n",
       "       29.        , 29.69911765, 30.        , 35.        , 50.        ,\n",
       "       29.69911765,  3.        , 52.        , 40.        , 29.69911765,\n",
       "       36.        , 16.        , 25.        , 58.        , 35.        ,\n",
       "       29.69911765, 25.        , 41.        , 37.        , 29.69911765,\n",
       "       63.        , 45.        , 29.69911765,  7.        , 35.        ,\n",
       "       65.        , 28.        , 16.        , 19.        , 29.69911765,\n",
       "       33.        , 30.        , 22.        , 42.        , 22.        ,\n",
       "       26.        , 19.        , 36.        , 24.        , 24.        ,\n",
       "       29.69911765, 23.5       ,  2.        , 29.69911765, 50.        ,\n",
       "       29.69911765, 29.69911765, 19.        , 29.69911765, 29.69911765,\n",
       "        0.92      , 29.69911765, 17.        , 30.        , 30.        ,\n",
       "       24.        , 18.        , 26.        , 28.        , 43.        ,\n",
       "       26.        , 24.        , 54.        , 31.        , 40.        ,\n",
       "       22.        , 27.        , 30.        , 22.        , 29.69911765,\n",
       "       36.        , 61.        , 36.        , 31.        , 16.        ,\n",
       "       29.69911765, 45.5       , 38.        , 16.        , 29.69911765,\n",
       "       29.69911765, 29.        , 41.        , 45.        , 45.        ,\n",
       "        2.        , 24.        , 28.        , 25.        , 36.        ,\n",
       "       24.        , 40.        , 29.69911765,  3.        , 42.        ,\n",
       "       23.        , 29.69911765, 15.        , 25.        , 29.69911765,\n",
       "       28.        , 22.        , 38.        , 29.69911765, 29.69911765,\n",
       "       40.        , 29.        , 45.        , 35.        , 29.69911765,\n",
       "       30.        , 60.        , 29.69911765, 29.69911765, 24.        ,\n",
       "       25.        , 18.        , 19.        , 22.        ,  3.        ,\n",
       "       29.69911765, 22.        , 27.        , 20.        , 19.        ,\n",
       "       42.        ,  1.        , 32.        , 35.        , 29.69911765,\n",
       "       18.        ,  1.        , 36.        , 29.69911765, 17.        ,\n",
       "       36.        , 21.        , 28.        , 23.        , 24.        ,\n",
       "       22.        , 31.        , 46.        , 23.        , 28.        ,\n",
       "       39.        , 26.        , 21.        , 28.        , 20.        ,\n",
       "       34.        , 51.        ,  3.        , 21.        , 29.69911765,\n",
       "       29.69911765, 29.69911765, 33.        , 29.69911765, 44.        ,\n",
       "       29.69911765, 34.        , 18.        , 30.        , 10.        ,\n",
       "       29.69911765, 21.        , 29.        , 28.        , 18.        ,\n",
       "       29.69911765, 28.        , 19.        , 29.69911765, 32.        ,\n",
       "       28.        , 29.69911765, 42.        , 17.        , 50.        ,\n",
       "       14.        , 21.        , 24.        , 64.        , 31.        ,\n",
       "       45.        , 20.        , 25.        , 28.        , 29.69911765,\n",
       "        4.        , 13.        , 34.        ,  5.        , 52.        ,\n",
       "       36.        , 29.69911765, 30.        , 49.        , 29.69911765,\n",
       "       29.        , 65.        , 29.69911765, 50.        , 29.69911765,\n",
       "       48.        , 34.        , 47.        , 48.        , 29.69911765,\n",
       "       38.        , 29.69911765, 56.        , 29.69911765,  0.75      ,\n",
       "       29.69911765, 38.        , 33.        , 23.        , 22.        ,\n",
       "       29.69911765, 34.        , 29.        , 22.        ,  2.        ,\n",
       "        9.        , 29.69911765, 50.        , 63.        , 25.        ,\n",
       "       29.69911765, 35.        , 58.        , 30.        ,  9.        ,\n",
       "       29.69911765, 21.        , 55.        , 71.        , 21.        ,\n",
       "       29.69911765, 54.        , 29.69911765, 25.        , 24.        ,\n",
       "       17.        , 21.        , 29.69911765, 37.        , 16.        ,\n",
       "       18.        , 33.        , 29.69911765, 28.        , 26.        ,\n",
       "       29.        , 29.69911765, 36.        , 54.        , 24.        ,\n",
       "       47.        , 34.        , 29.69911765, 36.        , 32.        ,\n",
       "       30.        , 22.        , 29.69911765, 44.        , 29.69911765,\n",
       "       40.5       , 50.        , 29.69911765, 39.        , 23.        ,\n",
       "        2.        , 29.69911765, 17.        , 29.69911765, 30.        ,\n",
       "        7.        , 45.        , 30.        , 29.69911765, 22.        ,\n",
       "       36.        ,  9.        , 11.        , 32.        , 50.        ,\n",
       "       64.        , 19.        , 29.69911765, 33.        ,  8.        ,\n",
       "       17.        , 27.        , 29.69911765, 22.        , 22.        ,\n",
       "       62.        , 48.        , 29.69911765, 39.        , 36.        ,\n",
       "       29.69911765, 40.        , 28.        , 29.69911765, 29.69911765,\n",
       "       24.        , 19.        , 29.        , 29.69911765, 32.        ,\n",
       "       62.        , 53.        , 36.        , 29.69911765, 16.        ,\n",
       "       19.        , 34.        , 39.        , 29.69911765, 32.        ,\n",
       "       25.        , 39.        , 54.        , 36.        , 29.69911765,\n",
       "       18.        , 47.        , 60.        , 22.        , 29.69911765,\n",
       "       35.        , 52.        , 47.        , 29.69911765, 37.        ,\n",
       "       36.        , 29.69911765, 49.        , 29.69911765, 49.        ,\n",
       "       24.        , 29.69911765, 29.69911765, 44.        , 35.        ,\n",
       "       36.        , 30.        , 27.        , 22.        , 40.        ,\n",
       "       39.        , 29.69911765, 29.69911765, 29.69911765, 35.        ,\n",
       "       24.        , 34.        , 26.        ,  4.        , 26.        ,\n",
       "       27.        , 42.        , 20.        , 21.        , 21.        ,\n",
       "       61.        , 57.        , 21.        , 26.        , 29.69911765,\n",
       "       80.        , 51.        , 32.        , 29.69911765,  9.        ,\n",
       "       28.        , 32.        , 31.        , 41.        , 29.69911765,\n",
       "       20.        , 24.        ,  2.        , 29.69911765,  0.75      ,\n",
       "       48.        , 19.        , 56.        , 29.69911765, 23.        ,\n",
       "       29.69911765, 18.        , 21.        , 29.69911765, 18.        ,\n",
       "       24.        , 29.69911765, 32.        , 23.        , 58.        ,\n",
       "       50.        , 40.        , 47.        , 36.        , 20.        ,\n",
       "       32.        , 25.        , 29.69911765, 43.        , 29.69911765,\n",
       "       40.        , 31.        , 70.        , 31.        , 29.69911765,\n",
       "       18.        , 24.5       , 18.        , 43.        , 36.        ,\n",
       "       29.69911765, 27.        , 20.        , 14.        , 60.        ,\n",
       "       25.        , 14.        , 19.        , 18.        , 15.        ,\n",
       "       31.        ,  4.        , 29.69911765, 25.        , 60.        ,\n",
       "       52.        , 44.        , 29.69911765, 49.        , 42.        ,\n",
       "       18.        , 35.        , 18.        , 25.        , 26.        ,\n",
       "       39.        , 45.        , 42.        , 22.        , 29.69911765,\n",
       "       24.        , 29.69911765, 48.        , 29.        , 52.        ,\n",
       "       19.        , 38.        , 27.        , 29.69911765, 33.        ,\n",
       "        6.        , 17.        , 34.        , 50.        , 27.        ,\n",
       "       20.        , 30.        , 29.69911765, 25.        , 25.        ,\n",
       "       29.        , 11.        , 29.69911765, 23.        , 23.        ,\n",
       "       28.5       , 48.        , 35.        , 29.69911765, 29.69911765,\n",
       "       29.69911765, 36.        , 21.        , 24.        , 31.        ,\n",
       "       70.        , 16.        , 30.        , 19.        , 31.        ,\n",
       "        4.        ,  6.        , 33.        , 23.        , 48.        ,\n",
       "        0.67      , 28.        , 18.        , 34.        , 33.        ,\n",
       "       29.69911765, 41.        , 20.        , 36.        , 16.        ,\n",
       "       51.        , 29.69911765, 30.5       , 29.69911765, 32.        ,\n",
       "       24.        , 48.        , 57.        , 29.69911765, 54.        ,\n",
       "       18.        , 29.69911765,  5.        , 29.69911765, 43.        ,\n",
       "       13.        , 17.        , 29.        , 29.69911765, 25.        ,\n",
       "       25.        , 18.        ,  8.        ,  1.        , 46.        ,\n",
       "       29.69911765, 16.        , 29.69911765, 29.69911765, 25.        ,\n",
       "       39.        , 49.        , 31.        , 30.        , 30.        ,\n",
       "       34.        , 31.        , 11.        ,  0.42      , 27.        ,\n",
       "       31.        , 39.        , 18.        , 39.        , 33.        ,\n",
       "       26.        , 39.        , 35.        ,  6.        , 30.5       ,\n",
       "       29.69911765, 23.        , 31.        , 43.        , 10.        ,\n",
       "       52.        , 27.        , 38.        , 27.        ,  2.        ,\n",
       "       29.69911765, 29.69911765,  1.        , 29.69911765, 62.        ,\n",
       "       15.        ,  0.83      , 29.69911765, 23.        , 18.        ,\n",
       "       39.        , 21.        , 29.69911765, 32.        , 29.69911765,\n",
       "       20.        , 16.        , 30.        , 34.5       , 17.        ,\n",
       "       42.        , 29.69911765, 35.        , 28.        , 29.69911765,\n",
       "        4.        , 74.        ,  9.        , 16.        , 44.        ,\n",
       "       18.        , 45.        , 51.        , 24.        , 29.69911765,\n",
       "       41.        , 21.        , 48.        , 29.69911765, 24.        ,\n",
       "       42.        , 27.        , 31.        , 29.69911765,  4.        ,\n",
       "       26.        , 47.        , 33.        , 47.        , 28.        ,\n",
       "       15.        , 20.        , 19.        , 29.69911765, 56.        ,\n",
       "       25.        , 33.        , 22.        , 28.        , 25.        ,\n",
       "       39.        , 27.        , 19.        , 29.69911765, 26.        ,\n",
       "       32.        ])"
      ]
     },
     "execution_count": 143,
     "metadata": {},
     "output_type": "execute_result"
    }
   ],
   "source": [
    "dataku22.age.values"
   ]
  },
  {
   "cell_type": "code",
   "execution_count": 144,
   "id": "104fa8ff-0ff6-48ba-be14-bc098b3cfb41",
   "metadata": {},
   "outputs": [
    {
     "data": {
      "text/plain": [
       "numpy.ndarray"
      ]
     },
     "execution_count": 144,
     "metadata": {},
     "output_type": "execute_result"
    }
   ],
   "source": [
    "type(dataku22.age.values)"
   ]
  },
  {
   "cell_type": "code",
   "execution_count": null,
   "id": "9b00b754-5f65-4e73-b93e-1a880e3a16d4",
   "metadata": {},
   "outputs": [],
   "source": []
  }
 ],
 "metadata": {
  "kernelspec": {
   "display_name": "Python 3 (ipykernel)",
   "language": "python",
   "name": "python3"
  },
  "language_info": {
   "codemirror_mode": {
    "name": "ipython",
    "version": 3
   },
   "file_extension": ".py",
   "mimetype": "text/x-python",
   "name": "python",
   "nbconvert_exporter": "python",
   "pygments_lexer": "ipython3",
   "version": "3.12.0"
  }
 },
 "nbformat": 4,
 "nbformat_minor": 5
}
