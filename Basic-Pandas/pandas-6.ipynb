{
 "cells": [
  {
   "cell_type": "markdown",
   "id": "65c634d2-7eb2-4337-9579-b6e8a2678b6e",
   "metadata": {},
   "source": [
    "### Mengelompokkan dan Menggabungkan tabel (Merging, dan Grouping)"
   ]
  },
  {
   "cell_type": "code",
   "execution_count": 1,
   "id": "d337014a-dfd7-4b90-b071-7d5ebbac9a3f",
   "metadata": {},
   "outputs": [],
   "source": [
    "import pandas as pd"
   ]
  },
  {
   "cell_type": "code",
   "execution_count": null,
   "id": "5efc37f8-2643-4ca1-882b-950d7b1c37fa",
   "metadata": {},
   "outputs": [],
   "source": []
  }
 ],
 "metadata": {
  "kernelspec": {
   "display_name": "Python 3 (ipykernel)",
   "language": "python",
   "name": "python3"
  },
  "language_info": {
   "codemirror_mode": {
    "name": "ipython",
    "version": 3
   },
   "file_extension": ".py",
   "mimetype": "text/x-python",
   "name": "python",
   "nbconvert_exporter": "python",
   "pygments_lexer": "ipython3",
   "version": "3.12.0"
  }
 },
 "nbformat": 4,
 "nbformat_minor": 5
}
